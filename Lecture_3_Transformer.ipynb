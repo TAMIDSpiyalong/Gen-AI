{
  "cells": [
    {
      "cell_type": "markdown",
      "metadata": {
        "id": "view-in-github",
        "colab_type": "text"
      },
      "source": [
        "<a href=\"https://colab.research.google.com/github/TAMIDSpiyalong/Gen-AI/blob/main/Lecture_3_Transformer.ipynb\" target=\"_parent\"><img src=\"https://colab.research.google.com/assets/colab-badge.svg\" alt=\"Open In Colab\"/></a>"
      ]
    },
    {
      "cell_type": "markdown",
      "metadata": {
        "id": "MenE2varZEXc"
      },
      "source": [
        "# Transformers From Scratch"
      ]
    },
    {
      "cell_type": "markdown",
      "metadata": {
        "id": "aTSadDXiPQLm"
      },
      "source": [
        "This lab builds a sequence to sequence transformer, with encoder-decoder blocks from scratch for translation from Portuguese to English. Transformers excel at modeling sequential data, such as natural language. The datasets is from the TED Talks Open Translation Project. This dataset contains approximately 52,000 training, 1,200 validation and 1,800 test examples."
      ]
    },
    {
      "cell_type": "markdown",
      "metadata": {
        "id": "pAifCvd_Tth9"
      },
      "source": [
        "##Objectives"
      ]
    },
    {
      "cell_type": "markdown",
      "metadata": {
        "id": "gg_2bsitTwAq"
      },
      "source": [
        "1. Understand and build the dot product self attention block, which is the key of the attention mechanism.\n",
        "2. Build a transformer from scratch with multiple attention heads.\n",
        "3. Train and evaluate the performance of such neural network."
      ]
    },
    {
      "cell_type": "markdown",
      "metadata": {
        "id": "fd1NWMxjfsDd"
      },
      "source": [
        "## Setup input pipeline"
      ]
    },
    {
      "cell_type": "code",
      "execution_count": null,
      "metadata": {
        "id": "JjJJyJTZYebt",
        "outputId": "7b86358f-ab58-435f-f404-6e411b049211"
      },
      "outputs": [
        {
          "name": "stderr",
          "output_type": "stream",
          "text": [
            "2025-04-07 00:05:43.953442: I tensorflow/core/util/port.cc:113] oneDNN custom operations are on. You may see slightly different numerical results due to floating-point round-off errors from different computation orders. To turn them off, set the environment variable `TF_ENABLE_ONEDNN_OPTS=0`.\n",
            "2025-04-07 00:05:51.524041: E external/local_xla/xla/stream_executor/cuda/cuda_dnn.cc:9261] Unable to register cuDNN factory: Attempting to register factory for plugin cuDNN when one has already been registered\n",
            "2025-04-07 00:05:51.526840: E external/local_xla/xla/stream_executor/cuda/cuda_fft.cc:607] Unable to register cuFFT factory: Attempting to register factory for plugin cuFFT when one has already been registered\n",
            "2025-04-07 00:05:52.417880: E external/local_xla/xla/stream_executor/cuda/cuda_blas.cc:1515] Unable to register cuBLAS factory: Attempting to register factory for plugin cuBLAS when one has already been registered\n",
            "2025-04-07 00:05:54.305442: I tensorflow/core/platform/cpu_feature_guard.cc:182] This TensorFlow binary is optimized to use available CPU instructions in performance-critical operations.\n",
            "To enable the following instructions: AVX2 AVX512F AVX512_VNNI FMA, in other operations, rebuild TensorFlow with the appropriate compiler flags.\n",
            "2025-04-07 00:06:27.912625: W tensorflow/compiler/tf2tensorrt/utils/py_utils.cc:38] TF-TRT Warning: Could not find TensorRT\n"
          ]
        }
      ],
      "source": [
        "import tensorflow_datasets as tfds\n",
        "import tensorflow as tf\n",
        "\n",
        "import time\n",
        "import numpy as np\n"
      ]
    },
    {
      "cell_type": "code",
      "execution_count": null,
      "metadata": {
        "id": "RsUXCHTln_F6",
        "outputId": "58ca7602-95f0-4a35-8b8d-c1d2261c399f"
      },
      "outputs": [
        {
          "name": "stdout",
          "output_type": "stream",
          "text": [
            "\u001b[33mWARNING: Ignoring invalid distribution -ensorflow (/scratch/user/piyalong/myclass/lib/python3.10/site-packages)\u001b[0m\u001b[33m\n",
            "\u001b[0mRequirement already satisfied: tensorflow_datasets in /scratch/user/piyalong/myclass/lib/python3.10/site-packages (4.9.8)\n",
            "Requirement already satisfied: absl-py in /scratch/user/piyalong/myclass/lib/python3.10/site-packages (from tensorflow_datasets) (2.2.2)\n",
            "Requirement already satisfied: array_record>=0.5.0 in /scratch/user/piyalong/myclass/lib/python3.10/site-packages (from tensorflow_datasets) (0.7.1)\n",
            "Requirement already satisfied: dm-tree in /scratch/user/piyalong/myclass/lib/python3.10/site-packages (from tensorflow_datasets) (0.1.9)\n",
            "Requirement already satisfied: etils>=1.6.0 in /scratch/user/piyalong/myclass/lib/python3.10/site-packages (from etils[edc,enp,epath,epy,etree]>=1.6.0; python_version < \"3.11\"->tensorflow_datasets) (1.12.2)\n",
            "Requirement already satisfied: immutabledict in /scratch/user/piyalong/myclass/lib/python3.10/site-packages (from tensorflow_datasets) (4.2.1)\n",
            "Requirement already satisfied: numpy in /scratch/user/piyalong/myclass/lib/python3.10/site-packages (from tensorflow_datasets) (1.26.1)\n",
            "Requirement already satisfied: promise in /scratch/user/piyalong/myclass/lib/python3.10/site-packages (from tensorflow_datasets) (2.3)\n",
            "Requirement already satisfied: protobuf>=3.20 in /scratch/user/piyalong/myclass/lib/python3.10/site-packages (from tensorflow_datasets) (4.21.12)\n",
            "Requirement already satisfied: psutil in /sw/eb/sw/Python/3.10.4-GCCcore-11.3.0/lib/python3.10/site-packages (from tensorflow_datasets) (5.9.0)\n",
            "Requirement already satisfied: pyarrow in /scratch/user/piyalong/myclass/lib/python3.10/site-packages (from tensorflow_datasets) (19.0.1)\n",
            "Requirement already satisfied: requests>=2.19.0 in /scratch/user/piyalong/myclass/lib/python3.10/site-packages (from tensorflow_datasets) (2.32.3)\n",
            "Requirement already satisfied: simple_parsing in /scratch/user/piyalong/myclass/lib/python3.10/site-packages (from tensorflow_datasets) (0.1.7)\n",
            "Requirement already satisfied: tensorflow-metadata in /scratch/user/piyalong/myclass/lib/python3.10/site-packages (from tensorflow_datasets) (1.17.0)\n",
            "Requirement already satisfied: termcolor in /scratch/user/piyalong/myclass/lib/python3.10/site-packages (from tensorflow_datasets) (3.0.1)\n",
            "Requirement already satisfied: toml in /sw/eb/sw/Python/3.10.4-GCCcore-11.3.0/lib/python3.10/site-packages (from tensorflow_datasets) (0.10.2)\n",
            "Requirement already satisfied: tqdm in /scratch/user/piyalong/myclass/lib/python3.10/site-packages (from tensorflow_datasets) (4.67.1)\n",
            "Requirement already satisfied: wrapt in /scratch/user/piyalong/myclass/lib/python3.10/site-packages (from tensorflow_datasets) (1.14.1)\n",
            "Requirement already satisfied: typing_extensions in /scratch/user/piyalong/myclass/lib/python3.10/site-packages (from etils[edc,enp,epath,epy,etree]>=1.6.0; python_version < \"3.11\"->tensorflow_datasets) (4.13.1)\n",
            "Requirement already satisfied: fsspec in /sw/eb/sw/Python/3.10.4-GCCcore-11.3.0/lib/python3.10/site-packages (from etils[edc,enp,epath,epy,etree]>=1.6.0; python_version < \"3.11\"->tensorflow_datasets) (2022.3.0)\n",
            "Requirement already satisfied: importlib_resources in /sw/eb/sw/Python/3.10.4-GCCcore-11.3.0/lib/python3.10/site-packages (from etils[edc,enp,epath,epy,etree]>=1.6.0; python_version < \"3.11\"->tensorflow_datasets) (5.7.1)\n",
            "Requirement already satisfied: zipp in /sw/eb/sw/Python/3.10.4-GCCcore-11.3.0/lib/python3.10/site-packages (from etils[edc,enp,epath,epy,etree]>=1.6.0; python_version < \"3.11\"->tensorflow_datasets) (3.8.0)\n",
            "Requirement already satisfied: einops in /scratch/user/piyalong/myclass/lib/python3.10/site-packages (from etils[edc,enp,epath,epy,etree]>=1.6.0; python_version < \"3.11\"->tensorflow_datasets) (0.8.1)\n",
            "Requirement already satisfied: charset-normalizer<4,>=2 in /sw/eb/sw/Python/3.10.4-GCCcore-11.3.0/lib/python3.10/site-packages (from requests>=2.19.0->tensorflow_datasets) (2.0.12)\n",
            "Requirement already satisfied: idna<4,>=2.5 in /sw/eb/sw/Python/3.10.4-GCCcore-11.3.0/lib/python3.10/site-packages (from requests>=2.19.0->tensorflow_datasets) (3.3)\n",
            "Requirement already satisfied: urllib3<3,>=1.21.1 in /sw/eb/sw/Python/3.10.4-GCCcore-11.3.0/lib/python3.10/site-packages (from requests>=2.19.0->tensorflow_datasets) (1.26.9)\n",
            "Requirement already satisfied: certifi>=2017.4.17 in /sw/eb/sw/Python/3.10.4-GCCcore-11.3.0/lib/python3.10/site-packages (from requests>=2.19.0->tensorflow_datasets) (2021.10.8)\n",
            "Requirement already satisfied: attrs>=18.2.0 in /scratch/user/piyalong/myclass/lib/python3.10/site-packages (from dm-tree->tensorflow_datasets) (25.3.0)\n",
            "Requirement already satisfied: six in /sw/eb/sw/Python/3.10.4-GCCcore-11.3.0/lib/python3.10/site-packages (from promise->tensorflow_datasets) (1.16.0)\n",
            "Requirement already satisfied: docstring-parser<1.0,>=0.15 in /scratch/user/piyalong/myclass/lib/python3.10/site-packages (from simple_parsing->tensorflow_datasets) (0.16)\n",
            "\u001b[33mWARNING: Ignoring invalid distribution -ensorflow (/scratch/user/piyalong/myclass/lib/python3.10/site-packages)\u001b[0m\u001b[33m\n",
            "\u001b[0m\u001b[33mWARNING: Ignoring invalid distribution -ensorflow (/scratch/user/piyalong/myclass/lib/python3.10/site-packages)\u001b[0m\u001b[33m\n",
            "\u001b[0m"
          ]
        }
      ],
      "source": [
        "! pip install tensorflow_datasets"
      ]
    },
    {
      "cell_type": "markdown",
      "metadata": {
        "id": "t4_Qt8W1hJE_"
      },
      "source": [
        "Use [TFDS](https://www.tensorflow.org/datasets) to load the [Portugese-English translation dataset](https://github.com/neulab/word-embeddings-for-nmt) from the [TED Talks Open Translation Project](https://www.ted.com/participate/translate).\n",
        "\n",
        "This dataset contains approximately 50000 training examples, 1100 validation examples, and 2000 test examples."
      ]
    },
    {
      "cell_type": "code",
      "execution_count": null,
      "metadata": {
        "colab": {
          "base_uri": "https://localhost:8080/",
          "height": 168,
          "referenced_widgets": [
            "ed84df1b92734eff99552a7177beb74d",
            "77bdeddbbb55465a880edf647359ffa2",
            "108c9b656e1b4fdc8a124583a014ee07",
            "3f4a7e4e473847018569e8eef8d9079c",
            "83538dc956584f80aab0a3553a4c2e20",
            "acfea5cf86aa46d586ef467aed367852",
            "ecf8222ffd7d44108bbdd7a889d17ed8",
            "d46f57f212514ecb8799484386bcbbb9",
            "db5b4a418695476a995f946352c47b8f",
            "ec9cce86572a40b0824180560fbd328c",
            "ed9dbbe82c5f4f1f8fc1d7d37c98ac76",
            "92c751bb804e4cba994178651320ba06",
            "b83278e827284469a558ae21d640d58f",
            "288ca694d7ec4d368d5980c77479ec95",
            "13c9bda48f2f49d791f30ac609cf03c0",
            "7d1dca2c916445399cd938826395f540",
            "56d273f78fec4ae2b22c76c60dc8b84b",
            "f7ea139ae8b6464cb769ad4a7a017da8",
            "d5eefc26da004256bccf6fdbca2d22cf",
            "a9a81d00ea274b3c964e6c7d1d654c1e",
            "e245b92d898647c3a37dc4c447f58c4e",
            "965f7121fcd746df9d31d388527207e3",
            "db1f291ee9274686b01e50c936bff8a1",
            "59d2f93c2d3a4c5f849723ecb80d5ae7",
            "10d017039f8f45a983e8ac0f9109739b",
            "1c2451fc56624902a0b8b9463d72b197",
            "53e5a8d9944f4f269d4a95d423129b36",
            "389f91b83a8d41d88685749432ce5736",
            "63dbeb2d2ad04c079d00a880c0eb156d",
            "bc424264f61a426dba389e37b8b11f44",
            "286784f5cc934cacbcd5ce5f6be3930f",
            "bfd397bb1f6b454da7dd6f04a96c009b",
            "505aa9dee0d447aca04fdbfedf7f8193",
            "35181518a86741ef8a6ee7f3155bf3e9",
            "07e5fa3c48714ca5b5711246213cd292",
            "ec0f376cf5254a44a7c8925ec634e366",
            "4103ad9a36e446a2ab080f87a116a3dc",
            "b8c08feb51f444c4b36725e41c8b6b1a",
            "fcbe63a5186a4f648b4c78fb418de672",
            "5ca9daea6ef54245acc7a65a3d9dbfd5",
            "3d41d0fba7d54135bfb083b025ec0bff",
            "ad34eb4165e94733ba74bbb676d93e2d",
            "87835ca4d0834d32a263db7534d3cc09",
            "5247db5a1d0d4087b8adeaa94704b40d",
            "c645fa5423fa44ea81a42f1e3a10eddd",
            "04e17486f9bd4d81852ca2e625c29825",
            "6602c1266b234e379d2e399adf45936e",
            "fc88b86c0c324a5893beadc0f50e3310",
            "1812b061c3af41cd9f71bfd95d1dde2d",
            "5f48961a2e1b4b218729423c12ab4e33",
            "bff0f385e428498ebdb472818adac09a",
            "e728dabc548c458589e4b7aff0707070",
            "d852269a7234407fbbd6f46e08703c0c",
            "549df91bc0894142b33e7d2c9e102c6c",
            "172cb69fd62743b5881afc30b6bed07a",
            "e1171331da94407c88cce3b7f92ee89d",
            "eb51435aba5d4aa88351205f6b305e3d",
            "0010edb649504ae4ba18e51e249de5b9",
            "5d7a87a87da84e82911c647e2c493bf3",
            "67b4bf621b7a41cc81029d64bd736a01",
            "bbd1378c90204af0856b8d9e525d9713",
            "0397a1220c5a479f9b58fce48878f8d0",
            "72c0beeb2f334111a220f49196c8224b",
            "1523287f79574303a371aa11ff1b94d5",
            "17f388fa94a842a3b64dbcd58a0be33b",
            "f514f9d2da0d4b0db0e952979e6ece8c",
            "a648c82dc7a74deca087467b8e133428",
            "106478c43b5749acb1b48e0693106591",
            "1fe22484d262471eb844eb70acd8a73f",
            "5704f1efa9f44590b7df50d184aacdd6",
            "9644d7053a044b80818c665f3ee7a908",
            "50b0e1aed62f4e89826b680e67dc25b6",
            "f9ec63a0f08f4648858bdd674daf189d",
            "94f87a41debe46b390aafa85a9de2ffc",
            "2e3dfcd580f84d6189f1a3926030a3f7",
            "39aaec783b3d475eb0ce5863672e6d5c",
            "f36f7076baeb44168f5967bb9dae184b",
            "4a5a7695b7b84307bdd854964f723778",
            "92c10bf3fcb04addbfe123464bc6ca87",
            "ad84ea75e01a4af8b3c4c27509d454e1",
            "998002aebbb04b2fb0be4a09646f90d2",
            "b9514569fd8341e79501af1765f065e2",
            "6af756d29c7444baab1c645e35c3d4cd",
            "824cb88a5f1743fcadd5ceeaa1278ed8",
            "0ed9a4cc69a04fbfa9c596d8583dbfb8",
            "eb7b08905f8a4c109480a6a2c492ae2f",
            "831ad42bae9a41fd9efcbb08364a5582",
            "0d076caccf5e4d90b53956cb8cabb188",
            "659f7a722f1d4983a3b3aa3ae7bce634",
            "d6b69a87436c4f94a9e8f41fb0476fa4",
            "9cfa960d73f04c008b4e5d1b21869f74",
            "2d92dc4f2e414fa18f58ee36dfc57e44",
            "4bb9728dfeb34aceb0066dd1c9c332ae",
            "cf9ad00df0034a4f90f0abd527d38731",
            "6300fa2844d94b23b7530ce179727c95",
            "5aa7932fc45749388115068fda85a2cf",
            "fec64547ee6148ffb238dce03a7cfed6",
            "b32e596a6d3340d99fa35d3bc5c8092a",
            "1d8dcde09c7640fa800a075998138394",
            "bb20275d06944d3fade6033685f61bac",
            "f7a0197719ba44e8889aa3a2403cfc64",
            "6226d2feb0f949f3a9c65119487a3cf6",
            "5c36c4c4cf2841cdb16b6d10fc162e85",
            "3ca11c00f3a349a8a3e3bff1c9c96f5d",
            "a5b55e0824dd40d682f97bcafddd3afc",
            "afb2b0c0d21b4152a3a40e868d18e8cd",
            "79f082e92bdd4e0ba21958895c8c41ee",
            "0a5d26bcbcf44362852f55f678797ee2",
            "7feb8fe8b84947118052e5e756fdc9f1",
            "e4ba11abda60450980c1d5567d8d568d"
          ]
        },
        "id": "8q9t4FmN96eN",
        "outputId": "49867acd-7c97-4fc9-d2ac-99200bad070b"
      },
      "outputs": [
        {
          "name": "stderr",
          "output_type": "stream",
          "text": [
            "2025-04-07 00:09:13.562696: W tensorflow/core/common_runtime/gpu/gpu_device.cc:2256] Cannot dlopen some GPU libraries. Please make sure the missing libraries mentioned above are installed properly if you would like to use GPU. Follow the guide at https://www.tensorflow.org/install/gpu for how to download and setup the required libraries for your platform.\n",
            "Skipping registering GPU devices...\n"
          ]
        }
      ],
      "source": [
        "examples, metadata = tfds.load('ted_hrlr_translate/pt_to_en', with_info=True,\n",
        "                               as_supervised=True)\n",
        "train_examples, val_examples = examples['train'], examples['validation']"
      ]
    },
    {
      "cell_type": "code",
      "execution_count": null,
      "metadata": {
        "colab": {
          "base_uri": "https://localhost:8080/"
        },
        "id": "TyTo86x5n1om",
        "outputId": "225474b0-788d-48e6-f446-972f74921bd2"
      },
      "outputs": [
        {
          "name": "stdout",
          "output_type": "stream",
          "text": [
            "> Examples in Portuguese:\n",
            "e quando melhoramos a procura , tiramos a única vantagem da impressão , que é a serendipidade .\n",
            "mas e se estes fatores fossem ativos ?\n",
            "mas eles não tinham a curiosidade de me testar .\n",
            "\n",
            "> Examples in English:\n",
            "and when you improve searchability , you actually take away the one advantage of print , which is serendipity .\n",
            "but what if it were active ?\n",
            "but they did n't test for curiosity .\n"
          ]
        },
        {
          "name": "stderr",
          "output_type": "stream",
          "text": [
            "2025-04-07 00:09:16.729193: W tensorflow/core/kernels/data/cache_dataset_ops.cc:858] The calling iterator did not fully read the dataset being cached. In order to avoid unexpected truncation of the dataset, the partially cached contents of the dataset  will be discarded. This can happen if you have an input pipeline similar to `dataset.cache().take(k).repeat()`. You should use `dataset.take(k).cache().repeat()` instead.\n"
          ]
        }
      ],
      "source": [
        "for pt_examples, en_examples in train_examples.batch(3).take(1):\n",
        "  print('> Examples in Portuguese:')\n",
        "  for pt in pt_examples.numpy():\n",
        "    print(pt.decode('utf-8'))\n",
        "  print()\n",
        "\n",
        "  print('> Examples in English:')\n",
        "  for en in en_examples.numpy():\n",
        "    print(en.decode('utf-8'))"
      ]
    },
    {
      "cell_type": "code",
      "execution_count": null,
      "metadata": {
        "id": "DOe2oYkJE3ut"
      },
      "outputs": [],
      "source": []
    },
    {
      "cell_type": "markdown",
      "metadata": {
        "id": "RCEKotqosGfq"
      },
      "source": [
        "Now that you have loaded the dataset, you need to tokenize the text, so that each element is represented as a [token](https://developers.google.com/machine-learning/glossary#token) or token ID (a numeric representation).\n",
        "\n",
        "Tokenization is the process of breaking up text, into \"tokens\". Depending on the tokenizer, these tokens can represent sentence-pieces, words, subwords, or characters. To learn more about tokenization, visit [this guide](https://www.tensorflow.org/text/guide/tokenizers)."
      ]
    },
    {
      "cell_type": "code",
      "execution_count": null,
      "metadata": {
        "id": "KVBg5Q8tBk5z"
      },
      "outputs": [],
      "source": [
        "tokenizer_en = tfds.deprecated.text.SubwordTextEncoder.build_from_corpus(\n",
        "    (en.numpy() for pt, en in train_examples), target_vocab_size=2**13)\n",
        "\n",
        "tokenizer_pt = tfds.deprecated.text.SubwordTextEncoder.build_from_corpus(\n",
        "    (pt.numpy() for pt, en in train_examples), target_vocab_size=2**13)"
      ]
    },
    {
      "cell_type": "code",
      "execution_count": null,
      "metadata": {
        "colab": {
          "base_uri": "https://localhost:8080/"
        },
        "id": "4DYWukNFkGQN",
        "outputId": "e4c7d5b4-bd9b-47db-b1d2-e9f74cff29af"
      },
      "outputs": [
        {
          "name": "stdout",
          "output_type": "stream",
          "text": [
            "Tokenized string is [7915, 1248, 7946, 7194, 13, 2799, 7877]\n",
            "The original string: Transformer is awesome.\n"
          ]
        }
      ],
      "source": [
        "sample_string = 'Transformer is awesome.'\n",
        "\n",
        "tokenized_string = tokenizer_en.encode(sample_string)\n",
        "print ('Tokenized string is {}'.format(tokenized_string))\n",
        "\n",
        "original_string = tokenizer_en.decode(tokenized_string)\n",
        "print ('The original string: {}'.format(original_string))\n",
        "\n",
        "assert original_string == sample_string"
      ]
    },
    {
      "cell_type": "markdown",
      "metadata": {
        "id": "o9KJWJjrsZ4Y"
      },
      "source": [
        "The tokenizer encodes the string by breaking it into subwords if the word is not in its dictionary."
      ]
    },
    {
      "cell_type": "code",
      "execution_count": null,
      "metadata": {
        "colab": {
          "base_uri": "https://localhost:8080/"
        },
        "id": "bf2ntBxjkqK6",
        "outputId": "00bbd65a-bb82-46a2-8f26-6553d6e56992"
      },
      "outputs": [
        {
          "name": "stdout",
          "output_type": "stream",
          "text": [
            "|7915| ----> |T|\n",
            "|1248| ----> |ran|\n",
            "|7946| ----> |s|\n",
            "|7194| ----> |former |\n",
            "|13| ----> |is |\n",
            "|2799| ----> |awesome|\n",
            "|7877| ----> |.|\n"
          ]
        }
      ],
      "source": [
        "for ts in tokenized_string:\n",
        "  print ('|{}| ----> |{}|'.format(ts, tokenizer_en.decode([ts])))"
      ]
    },
    {
      "cell_type": "code",
      "execution_count": null,
      "metadata": {
        "id": "FESLncJLFx-e"
      },
      "outputs": [],
      "source": []
    },
    {
      "cell_type": "code",
      "execution_count": null,
      "metadata": {
        "id": "bcRp7VcQ5m6g"
      },
      "outputs": [],
      "source": [
        "BUFFER_SIZE = 20000\n",
        "BATCH_SIZE = 32"
      ]
    },
    {
      "cell_type": "markdown",
      "metadata": {
        "id": "kGi4PoVakxdc"
      },
      "source": [
        "Add a start and end token to the input and target."
      ]
    },
    {
      "cell_type": "code",
      "execution_count": null,
      "metadata": {
        "id": "UZwnPr4R055s"
      },
      "outputs": [],
      "source": [
        "def encode(lang1, lang2):\n",
        "  lang1 = [tokenizer_pt.vocab_size] + tokenizer_pt.encode(\n",
        "      lang1.numpy()) + [tokenizer_pt.vocab_size+1]\n",
        "\n",
        "  lang2 = [tokenizer_en.vocab_size] + tokenizer_en.encode(\n",
        "      lang2.numpy()) + [tokenizer_en.vocab_size+1]\n",
        "\n",
        "  return lang1, lang2"
      ]
    },
    {
      "cell_type": "markdown",
      "metadata": {
        "id": "Tx1sFbR-9fRs"
      },
      "source": [
        "You want to use `Dataset.map` to apply this function to each element of the dataset.  `Dataset.map` runs in graph mode.\n",
        "\n",
        "* Graph tensors do not have a value.\n",
        "* In graph mode you can only use TensorFlow Ops and functions.\n",
        "\n",
        "So you can't `.map` this function directly: You need to wrap it in a `tf.py_function`. The `tf.py_function` will pass regular tensors (with a value and a `.numpy()` method to access it), to the wrapped python function."
      ]
    },
    {
      "cell_type": "code",
      "execution_count": null,
      "metadata": {
        "id": "Mah1cS-P70Iz"
      },
      "outputs": [],
      "source": [
        "def tf_encode(pt, en):\n",
        "  result_pt, result_en = tf.py_function(encode, [pt, en], [tf.int64, tf.int64])\n",
        "  result_pt.set_shape([None])\n",
        "  result_en.set_shape([None])\n",
        "\n",
        "  return result_pt, result_en"
      ]
    },
    {
      "cell_type": "markdown",
      "metadata": {
        "id": "6JrGp5Gek6Ql"
      },
      "source": [
        "Note: To keep this example small and relatively fast, drop examples with a length of over 20 tokens."
      ]
    },
    {
      "cell_type": "code",
      "execution_count": null,
      "metadata": {
        "id": "2QEgbjntk6Yf"
      },
      "outputs": [],
      "source": [
        "MAX_LENGTH = 40"
      ]
    },
    {
      "cell_type": "code",
      "execution_count": null,
      "metadata": {
        "id": "c081xPGv1CPI"
      },
      "outputs": [],
      "source": [
        "def filter_max_length(x, y, max_length=MAX_LENGTH):\n",
        "  return tf.logical_and(tf.size(x) <= max_length,\n",
        "                        tf.size(y) <= max_length)"
      ]
    },
    {
      "cell_type": "code",
      "execution_count": null,
      "metadata": {
        "id": "9mk9AZdZ5bcS"
      },
      "outputs": [],
      "source": [
        "train_dataset = train_examples.map(tf_encode)\n",
        "train_dataset = train_dataset.filter(filter_max_length)\n",
        "# cache the dataset to memory to get a speedup while reading from it.\n",
        "train_dataset = train_dataset.cache()\n",
        "train_dataset = train_dataset.shuffle(BUFFER_SIZE).padded_batch(BATCH_SIZE)\n",
        "train_dataset = train_dataset.prefetch(tf.data.experimental.AUTOTUNE)\n",
        "\n",
        "\n",
        "val_dataset = val_examples.map(tf_encode)\n",
        "val_dataset = val_dataset.filter(filter_max_length).padded_batch(BATCH_SIZE)"
      ]
    },
    {
      "cell_type": "code",
      "execution_count": null,
      "metadata": {
        "colab": {
          "base_uri": "https://localhost:8080/"
        },
        "id": "_fXvfYVfQr2n",
        "outputId": "6626a34e-f971-4fd1-fe6a-d835bddbb360"
      },
      "outputs": [
        {
          "name": "stderr",
          "output_type": "stream",
          "text": [
            "2025-04-07 00:11:21.330271: W tensorflow/core/kernels/data/cache_dataset_ops.cc:858] The calling iterator did not fully read the dataset being cached. In order to avoid unexpected truncation of the dataset, the partially cached contents of the dataset  will be discarded. This can happen if you have an input pipeline similar to `dataset.cache().take(k).repeat()`. You should use `dataset.take(k).cache().repeat()` instead.\n"
          ]
        },
        {
          "data": {
            "text/plain": [
              "(<tf.Tensor: shape=(32, 38), dtype=int64, numpy=\n",
              " array([[8214,  342, 3032, ...,    0,    0,    0],\n",
              "        [8214,   95,  198, ...,    0,    0,    0],\n",
              "        [8214, 4479, 7990, ...,    0,    0,    0],\n",
              "        ...,\n",
              "        [8214, 1417, 8003, ...,    0,    0,    0],\n",
              "        [8214,   35, 1017, ...,    0,    0,    0],\n",
              "        [8214,  136, 3783, ...,    0,    0,    0]])>,\n",
              " TensorShape([32, 40]))"
            ]
          },
          "execution_count": 14,
          "metadata": {},
          "output_type": "execute_result"
        }
      ],
      "source": [
        "pt_batch, en_batch = next(iter(val_dataset))\n",
        "pt_batch, en_batch.shape"
      ]
    },
    {
      "cell_type": "markdown",
      "metadata": {
        "id": "mDkTVv3KMJX_"
      },
      "source": [
        "We'll start with the **Multi-Head Self-Attention** layer since that's the most involved bit. Once we have that working, the rest should make sense as you go."
      ]
    },
    {
      "cell_type": "markdown",
      "metadata": {
        "id": "LqX04fFXBdxy"
      },
      "source": [
        "## Multi-Head Self-Attention"
      ]
    },
    {
      "cell_type": "markdown",
      "metadata": {
        "id": "3NAf9HP7RsQu"
      },
      "source": [
        "\n",
        "Inside each attention head is a **Scaled Dot Product Self-Attention** operation as we covered in the slides. Given *queries*, *keys*, and *values*, the operation returns a new \"mix\" of the values.\n",
        "\n",
        "$$Attention(Q, K, V) = softmax(\\frac{QK^T)}{\\sqrt{d_k}})V$$\n",
        "\n",
        "The following function implements this and also takes a mask to account for padding and for masking future tokens for decoding (i.e. **look-ahead mask**). We'll cover masking later in the notebook."
      ]
    },
    {
      "cell_type": "code",
      "execution_count": null,
      "metadata": {
        "id": "7hpO6cGEN7HK"
      },
      "outputs": [],
      "source": [
        "def scaled_dot_product_attention(q, k, v, mask=None):\n",
        "  \"\"\"Calculate the attention weights.\n",
        "  q, k, v must have matching leading dimensions.\n",
        "  k, v must have matching penultimate dimension, i.e.: seq_len_k = seq_len_v.\n",
        "  The mask has different shapes depending on its type(padding or look ahead)\n",
        "  but it must be broadcastable for addition.\n",
        "\n",
        "  Args:\n",
        "    q: query shape == (..., seq_len_q, depth)\n",
        "    k: key shape == (..., seq_len_k, depth)\n",
        "    v: value shape == (..., seq_len_v, depth_v)\n",
        "    mask: Float tensor with shape broadcastable\n",
        "          to (..., seq_len_q, seq_len_k). Defaults to None.\n",
        "\n",
        "  Returns:\n",
        "    output, attention_weights\n",
        "  \"\"\"\n",
        "\n",
        "  matmul_qk = tf.matmul(q, k, transpose_b=True)  # (..., seq_len_q, seq_len_k)\n",
        "\n",
        "  # scale matmul_qk\n",
        "  dk = tf.cast(tf.shape(k)[-1], tf.float32)\n",
        "  scaled_attention_logits = matmul_qk / tf.math.sqrt(dk)\n",
        "\n",
        "  # add the mask to the scaled tensor.\n",
        "  if mask is not None:\n",
        "    scaled_attention_logits += (mask * -1e9)\n",
        "\n",
        "  # softmax is normalized on the last axis (seq_len_k) so that the scores\n",
        "  # add up to 1.\n",
        "  attention_weights = tf.nn.softmax(scaled_attention_logits, axis=-1)  # (..., seq_len_q, seq_len_k)\n",
        "\n",
        "  output = tf.matmul(attention_weights, v)  # (..., seq_len_q, depth_v)\n",
        "\n",
        "  return output, attention_weights"
      ]
    },
    {
      "cell_type": "markdown",
      "metadata": {
        "id": "lC_HhsreXh3H"
      },
      "source": [
        "Suppose our *queries*, *keys*, and *values* are each a length of 3 with a dimension of 4."
      ]
    },
    {
      "cell_type": "code",
      "execution_count": null,
      "metadata": {
        "colab": {
          "base_uri": "https://localhost:8080/"
        },
        "id": "WB2cDybgX5LZ",
        "outputId": "e816aefc-f260-4fe5-d873-9c25db635159"
      },
      "outputs": [
        {
          "name": "stdout",
          "output_type": "stream",
          "text": [
            "Queries:\n",
            " [[0.54668975 0.3798032  0.66348183 0.17317587]\n",
            " [0.32151094 0.9141733  0.79934067 0.09080518]\n",
            " [0.15384768 0.6878508  0.80139804 0.6002229 ]]\n"
          ]
        }
      ],
      "source": [
        "seq_len = 3\n",
        "embed_dim = 4\n",
        "\n",
        "queries = np.random.rand(seq_len, embed_dim).astype('float32')\n",
        "keys = np.random.rand(seq_len, embed_dim).astype('float32')\n",
        "values = np.random.rand(seq_len, embed_dim).astype('float32')\n",
        "\n",
        "print(\"Queries:\\n\", queries)"
      ]
    },
    {
      "cell_type": "markdown",
      "metadata": {
        "id": "QuNdMuz5vb1c"
      },
      "source": [
        "This would be the self-attention output and weights."
      ]
    },
    {
      "cell_type": "code",
      "execution_count": null,
      "metadata": {
        "colab": {
          "base_uri": "https://localhost:8080/"
        },
        "id": "pxKj56hNX5UO",
        "outputId": "7962dc6c-c415-4169-9112-9b456535ca94"
      },
      "outputs": [
        {
          "name": "stdout",
          "output_type": "stream",
          "text": [
            "Output\n",
            " tf.Tensor(\n",
            "[[0.73934394 0.41376865 0.6517496  0.23895578]\n",
            " [0.7340363  0.4121961  0.63228977 0.23050655]\n",
            " [0.72996396 0.40194172 0.6048719  0.22665203]], shape=(3, 4), dtype=float32) \n",
            "\n",
            "Weights\n",
            " tf.Tensor(\n",
            "[[0.32281268 0.30958366 0.36760366]\n",
            " [0.3507581  0.29791677 0.35132512]\n",
            " [0.38653967 0.29450783 0.31895244]], shape=(3, 3), dtype=float32)\n"
          ]
        }
      ],
      "source": [
        "output, attn_weights = scaled_dot_product_attention(queries, keys, values)\n",
        "\n",
        "print(\"Output\\n\", output, \"\\n\")\n",
        "print(\"Weights\\n\", attn_weights)"
      ]
    },
    {
      "cell_type": "code",
      "execution_count": null,
      "metadata": {
        "id": "72DBX3F5X1UL"
      },
      "outputs": [],
      "source": []
    },
    {
      "cell_type": "code",
      "execution_count": null,
      "metadata": {
        "colab": {
          "base_uri": "https://localhost:8080/",
          "height": 485
        },
        "id": "5oS1aQOJky-3",
        "outputId": "07ea499c-4de5-46ea-d601-a7e82d60f408"
      },
      "outputs": [
        {
          "data": {
            "image/png": "[encoded data removed]",
            "text/plain": [
              "<Figure size 640x480 with 2 Axes>"
            ]
          },
          "metadata": {},
          "output_type": "display_data"
        }
      ],
      "source": [
        "import matplotlib.pyplot as plt\n",
        "import seaborn as sns\n",
        "def visualize_attention(attention_weights):\n",
        "    # Create heatmap using seaborn\n",
        "    sns.set(font_scale=1.2)\n",
        "    plt.figure()\n",
        "    ax = sns.heatmap(\n",
        "        attention_weights,\n",
        "        cmap=\"YlGnBu\",\n",
        "        linewidths=0.5,\n",
        "        annot=True,\n",
        "        xticklabels=True,\n",
        "        yticklabels=True,\n",
        "        cbar_kws={'label': 'Attention Weight'}\n",
        "    )\n",
        "    ax.set_title('Self-Attention Weights')\n",
        "    plt.xlabel('Input Tokens')\n",
        "    plt.ylabel('Output Tokens')\n",
        "    plt.show()\n",
        "\n",
        "\n",
        "visualize_attention(attn_weights)\n"
      ]
    },
    {
      "cell_type": "markdown",
      "metadata": {
        "id": "wBm9jbpSN6-L"
      },
      "source": [
        "Now that we have a way to calculate self-attention, let's actually generate the input *queries*, *keys*, and *values* for multiple heads. It's easier to understand things this way and we can certainly code it this way as well. But we can also \"simulate\" different heads with a single query matrix, single key matrix, and single value matrix."
      ]
    },
    {
      "cell_type": "code",
      "execution_count": null,
      "metadata": {
        "colab": {
          "base_uri": "https://localhost:8080/"
        },
        "id": "rJLyGtqbX3uW",
        "outputId": "23ad544f-5a2f-40d9-d7c1-987c8038f7d5"
      },
      "outputs": [
        {
          "name": "stdout",
          "output_type": "stream",
          "text": [
            "Dimension of each head: 4\n"
          ]
        }
      ],
      "source": [
        "batch_size = 1\n",
        "seq_len = 3\n",
        "embed_dim = 12\n",
        "num_heads = 3\n",
        "head_dim = embed_dim // num_heads\n",
        "\n",
        "print(f\"Dimension of each head: {head_dim}\")"
      ]
    },
    {
      "cell_type": "markdown",
      "metadata": {
        "id": "JDl37YzAf7bh"
      },
      "source": [
        "**Using separate weight matrices per head**"
      ]
    },
    {
      "cell_type": "markdown",
      "metadata": {
        "id": "xQ_KoJq3fv-A"
      },
      "source": [
        "Suppose these are our input embeddings. Here we have a batch of 1 containing a sequence of length 3, with each element being a 12-dimensional embedding."
      ]
    },
    {
      "cell_type": "code",
      "execution_count": null,
      "metadata": {
        "colab": {
          "base_uri": "https://localhost:8080/"
        },
        "id": "7NcX3KBrX3uW",
        "outputId": "b6815239-2c5d-4735-c096-cc5d63a80238"
      },
      "outputs": [
        {
          "name": "stdout",
          "output_type": "stream",
          "text": [
            "Input shape:  (1, 3, 12) \n",
            "\n",
            "Input:\n",
            " [[[0.9 0.5 0.6 0.4 0.  0.8 0.5 0.2 0.1 0.9 0.9 0.1]\n",
            "  [0.7 0.4 0.2 0.2 0.4 0.8 0.9 0.8 0.8 0.4 0.5 0.5]\n",
            "  [0.7 0.5 0.9 0.5 0.5 0.8 0.2 0.2 0.3 0.4 1.  0.8]]]\n"
          ]
        }
      ],
      "source": [
        "x = np.random.rand(batch_size, seq_len, embed_dim).round(1).astype('float32')\n",
        "print(\"Input shape: \", x.shape, \"\\n\")\n",
        "print(\"Input:\\n\", x)"
      ]
    },
    {
      "cell_type": "markdown",
      "metadata": {
        "id": "uvJicbp6f7pI"
      },
      "source": [
        "We'll declare three sets of *query* weights (one for each head), three sets of *key* weights, and three sets of *value* weights. Remember each weight matrix should have a dimension of $\\text{d}\\ \\text{x}\\ \\text{d/h}$."
      ]
    },
    {
      "cell_type": "code",
      "execution_count": null,
      "metadata": {
        "id": "8zdg7rqrX3uX"
      },
      "outputs": [],
      "source": [
        "# The query weights for each head.\n",
        "wq0 = np.random.rand(embed_dim, head_dim).round(1).astype('float32')\n",
        "wq1 = np.random.rand(embed_dim, head_dim).round(1).astype('float32')\n",
        "wq2 = np.random.rand(embed_dim, head_dim).round(1).astype('float32')\n",
        "\n",
        "# The key weights for each head.\n",
        "wk0 = np.random.rand(embed_dim, head_dim).round(1).astype('float32')\n",
        "wk1 = np.random.rand(embed_dim, head_dim).round(1).astype('float32')\n",
        "wk2 = np.random.rand(embed_dim, head_dim).round(1).astype('float32')\n",
        "\n",
        "# The value weights for each head.\n",
        "wv0 = np.random.rand(embed_dim, head_dim).round(1).astype('float32')\n",
        "wv1 = np.random.rand(embed_dim, head_dim).round(1).astype('float32')\n",
        "wv2 = np.random.rand(embed_dim, head_dim).round(1).astype('float32')"
      ]
    },
    {
      "cell_type": "code",
      "execution_count": null,
      "metadata": {
        "colab": {
          "base_uri": "https://localhost:8080/"
        },
        "id": "QzMRHZooX3uX",
        "outputId": "f0de9afd-b4d7-4efb-be09-59cd0e20a6d9"
      },
      "outputs": [
        {
          "name": "stdout",
          "output_type": "stream",
          "text": [
            "The three sets of query weights (one for each head):\n",
            "wq0:\n",
            " [[0.8 0.6 0.9 0.5]\n",
            " [0.7 0.3 0.1 0.5]\n",
            " [0.1 0.  0.8 0.3]\n",
            " [0.5 0.9 0.  0.8]\n",
            " [0.1 0.5 0.7 0.1]\n",
            " [0.2 0.9 0.4 0.7]\n",
            " [0.9 0.4 0.7 0.2]\n",
            " [0.8 0.7 0.5 0.1]\n",
            " [0.7 0.9 0.4 0.7]\n",
            " [0.5 0.2 0.1 0.9]\n",
            " [1.  0.5 0.8 0.8]\n",
            " [0.7 0.9 0.6 0.2]]\n",
            "wq1:\n",
            " [[0.5 0.3 0.4 0.9]\n",
            " [0.5 0.6 0.4 0. ]\n",
            " [0.6 0.8 0.1 0.7]\n",
            " [0.7 0.5 0.5 0.5]\n",
            " [0.2 0.3 0.6 0.9]\n",
            " [0.4 0.3 0.2 0.7]\n",
            " [0.1 0.1 0.6 0.9]\n",
            " [0.1 1.  0.9 0.8]\n",
            " [0.9 0.6 0.6 0.1]\n",
            " [0.1 0.5 0.9 0. ]\n",
            " [0.2 0.9 0.7 0.3]\n",
            " [0.7 0.4 0.1 0.8]]\n",
            "wq2:\n",
            " [[0.5 0.3 0.4 0.9]\n",
            " [0.5 0.6 0.4 0. ]\n",
            " [0.6 0.8 0.1 0.7]\n",
            " [0.7 0.5 0.5 0.5]\n",
            " [0.2 0.3 0.6 0.9]\n",
            " [0.4 0.3 0.2 0.7]\n",
            " [0.1 0.1 0.6 0.9]\n",
            " [0.1 1.  0.9 0.8]\n",
            " [0.9 0.6 0.6 0.1]\n",
            " [0.1 0.5 0.9 0. ]\n",
            " [0.2 0.9 0.7 0.3]\n",
            " [0.7 0.4 0.1 0.8]]\n"
          ]
        }
      ],
      "source": [
        "print(\"The three sets of query weights (one for each head):\")\n",
        "print(\"wq0:\\n\", wq0)\n",
        "print(\"wq1:\\n\", wq1)\n",
        "print(\"wq2:\\n\", wq1)"
      ]
    },
    {
      "cell_type": "markdown",
      "metadata": {
        "id": "HmwGKV9qgch-"
      },
      "source": [
        "We'll generate our *queries*, *keys*, and *values* for each head by multiplying our input by the weights."
      ]
    },
    {
      "cell_type": "code",
      "execution_count": null,
      "metadata": {
        "id": "NucbYNNSX3uX"
      },
      "outputs": [],
      "source": [
        "# Geneated queries, keys, and values for the first head.\n",
        "q0 = np.dot(x, wq0)\n",
        "k0 = np.dot(x, wk0)\n",
        "v0 = np.dot(x, wv0)\n",
        "\n",
        "# Geneated queries, keys, and values for the second head.\n",
        "q1 = np.dot(x, wq1)\n",
        "k1 = np.dot(x, wk1)\n",
        "v1 = np.dot(x, wv1)\n",
        "\n",
        "# Geneated queries, keys, and values for the third head.\n",
        "q2 = np.dot(x, wq2)\n",
        "k2 = np.dot(x, wk2)\n",
        "v2 = np.dot(x, wv2)"
      ]
    },
    {
      "cell_type": "markdown",
      "metadata": {
        "id": "AIDiwWZ0gqhm"
      },
      "source": [
        "These are the resulting *query*, *key*, and *value* vectors for the first head."
      ]
    },
    {
      "cell_type": "code",
      "execution_count": null,
      "metadata": {
        "colab": {
          "base_uri": "https://localhost:8080/"
        },
        "id": "NMcMmbkqX3uX",
        "outputId": "bc166bc0-ce3b-43c7-d83f-ec256474a8a0"
      },
      "outputs": [
        {
          "name": "stdout",
          "output_type": "stream",
          "text": [
            "Q, K, and V for first head:\n",
            "\n",
            "q0 (1, 3, 4):\n",
            " [[[3.59      2.9199998 3.02      3.5      ]\n",
            "  [4.2200003 4.06      3.52      3.05     ]\n",
            "  [3.77      3.78      3.75      3.47     ]]] \n",
            "\n",
            "k0 (1, 3, 4):\n",
            " [[[2.63      2.8600001 2.82      3.54     ]\n",
            "  [3.33      3.1000001 3.5700002 3.55     ]\n",
            "  [3.46      3.66      3.98      3.9099998]]] \n",
            "\n",
            "v0 (1, 3, 4):\n",
            " [[[3.33      4.02      2.23      2.87     ]\n",
            "  [3.55      3.8200002 3.47      3.75     ]\n",
            "  [4.12      4.16      2.43      3.37     ]]]\n"
          ]
        }
      ],
      "source": [
        "print(\"Q, K, and V for first head:\\n\")\n",
        "\n",
        "print(f\"q0 {q0.shape}:\\n\", q0, \"\\n\")\n",
        "print(f\"k0 {k0.shape}:\\n\", k0, \"\\n\")\n",
        "print(f\"v0 {v0.shape}:\\n\", v0)"
      ]
    },
    {
      "cell_type": "markdown",
      "metadata": {
        "id": "iw5CQ9i6qZDv"
      },
      "source": [
        "Now that we have our Q, K, V vectors, we can just pass them to our self-attention operation. Here we're calculating the output and attention weights for the first head."
      ]
    },
    {
      "cell_type": "code",
      "execution_count": null,
      "metadata": {
        "colab": {
          "base_uri": "https://localhost:8080/"
        },
        "id": "i7tHIvXKX3uX",
        "outputId": "a23e9cc6-e991-4fa9-c892-756674ab540c"
      },
      "outputs": [
        {
          "name": "stdout",
          "output_type": "stream",
          "text": [
            "Output from first attention head:  tf.Tensor(\n",
            "[[[4.0638175 4.1283927 2.5230684 3.4015503]\n",
            "  [4.0817075 4.13794   2.4959955 3.3931067]\n",
            "  [4.0820546 4.1382194 2.4950047 3.3926516]]], shape=(1, 3, 4), dtype=float32) \n",
            "\n",
            "Attention weights from first head:  tf.Tensor(\n",
            "[[[0.0057517  0.09059467 0.9036537 ]\n",
            "  [0.00235853 0.06391079 0.93373066]\n",
            "  [0.00257649 0.06299969 0.93442386]]], shape=(1, 3, 3), dtype=float32)\n"
          ]
        }
      ],
      "source": [
        "out0, attn_weights0 = scaled_dot_product_attention(q0, k0, v0)\n",
        "\n",
        "print(\"Output from first attention head: \", out0, \"\\n\")\n",
        "print(\"Attention weights from first head: \", attn_weights0)"
      ]
    },
    {
      "cell_type": "markdown",
      "metadata": {
        "id": "DoYEXSm7qr_A"
      },
      "source": [
        "Here are the other two (attention weights are ignored)."
      ]
    },
    {
      "cell_type": "code",
      "execution_count": null,
      "metadata": {
        "colab": {
          "base_uri": "https://localhost:8080/"
        },
        "id": "otnqbaDSqpJ7",
        "outputId": "45ae93e5-5950-4528-abc0-e6cdccc92090"
      },
      "outputs": [
        {
          "name": "stdout",
          "output_type": "stream",
          "text": [
            "Output from second attention head:  tf.Tensor(\n",
            "[[[4.0636554 3.3040717 3.314179  3.502932 ]\n",
            "  [4.086827  3.309157  3.3262255 3.5121942]\n",
            "  [4.121911  3.3194544 3.351761  3.533568 ]]], shape=(1, 3, 4), dtype=float32) \n",
            "\n",
            "Output from third attention head:  tf.Tensor(\n",
            "[[[2.7901866 2.8710148 3.5612853 3.5424993]\n",
            "  [2.7441692 2.8970602 3.533613  3.541515 ]\n",
            "  [2.7799892 2.8777633 3.5570111 3.5437198]]], shape=(1, 3, 4), dtype=float32)\n"
          ]
        }
      ],
      "source": [
        "out1, _ = scaled_dot_product_attention(q1, k1, v1)\n",
        "out2, _ = scaled_dot_product_attention(q2, k2, v2)\n",
        "\n",
        "print(\"Output from second attention head: \", out1, \"\\n\")\n",
        "print(\"Output from third attention head: \", out2,)"
      ]
    },
    {
      "cell_type": "markdown",
      "metadata": {
        "id": "lOV717bqX3uX"
      },
      "source": [
        "As we covered in the slides, once we have each head's output, we concatenate them and then put them through a linear layer for further processing."
      ]
    },
    {
      "cell_type": "code",
      "execution_count": null,
      "metadata": {
        "colab": {
          "base_uri": "https://localhost:8080/"
        },
        "id": "gmSv5trtt2v9",
        "outputId": "45db4201-73da-43c6-bcf0-57da77dc7d3e"
      },
      "outputs": [
        {
          "name": "stdout",
          "output_type": "stream",
          "text": [
            "Combined output from all heads (1, 3, 12):\n",
            "[[[4.0638175 4.1283927 2.5230684 3.4015503 4.0636554 3.3040717 3.314179\n",
            "   3.502932  2.7901866 2.8710148 3.5612853 3.5424993]\n",
            "  [4.0817075 4.13794   2.4959955 3.3931067 4.086827  3.309157  3.3262255\n",
            "   3.5121942 2.7441692 2.8970602 3.533613  3.541515 ]\n",
            "  [4.0820546 4.1382194 2.4950047 3.3926516 4.121911  3.3194544 3.351761\n",
            "   3.533568  2.7799892 2.8777633 3.5570111 3.5437198]]]\n"
          ]
        }
      ],
      "source": [
        "combined_out_a = np.concatenate((out0, out1, out2), axis=-1)\n",
        "print(f\"Combined output from all heads {combined_out_a.shape}:\")\n",
        "print(combined_out_a)\n",
        "\n",
        "# The final step would be to run combined_out_a through a linear/dense layer\n",
        "# for further processing."
      ]
    },
    {
      "cell_type": "markdown",
      "metadata": {
        "id": "JPmbr6F1C-v_"
      },
      "source": [
        "Each multi-head attention block gets three inputs; Q (query), K (key), V (value). These are put through linear (Dense) layers and split up into multiple heads.\n",
        "\n",
        "The `scaled_dot_product_attention` defined above is applied to each head (broadcasted for efficiency). An appropriate mask must be used in the attention step.  The attention output for each head is then concatenated (using `tf.transpose`, and `tf.reshape`) and put through a final `Dense` layer.\n",
        "\n",
        "Instead of one single attention head, Q, K, and V are split into multiple heads because it allows the model to jointly attend to information at different positions from different representational spaces. After the split each head has a reduced dimensionality, so the total computation cost is the same as a single head attention with full dimensionality."
      ]
    },
    {
      "cell_type": "code",
      "execution_count": null,
      "metadata": {
        "id": "BSV3PPKsYecw"
      },
      "outputs": [],
      "source": [
        "class MultiHeadAttention(tf.keras.layers.Layer):\n",
        "  def __init__(self, d_model, num_heads):\n",
        "    super(MultiHeadAttention, self).__init__()\n",
        "    self.num_heads = num_heads\n",
        "    self.d_model = d_model\n",
        "\n",
        "    assert d_model % self.num_heads == 0\n",
        "\n",
        "    self.depth = d_model // self.num_heads\n",
        "\n",
        "    self.wq = tf.keras.layers.Dense(d_model)\n",
        "    self.wk = tf.keras.layers.Dense(d_model)\n",
        "    self.wv = tf.keras.layers.Dense(d_model)\n",
        "\n",
        "    self.dense = tf.keras.layers.Dense(d_model)\n",
        "\n",
        "  def split_heads(self, x, batch_size):\n",
        "    \"\"\"Split the last dimension into (num_heads, depth).\n",
        "    Transpose the result such that the shape is (batch_size, num_heads, seq_len, depth)\n",
        "    \"\"\"\n",
        "    x = tf.reshape(x, (batch_size, -1, self.num_heads, self.depth))\n",
        "    return tf.transpose(x, perm=[0, 2, 1, 3])\n",
        "\n",
        "  def call(self, v, k, q, mask):\n",
        "    batch_size = tf.shape(q)[0]\n",
        "\n",
        "    q = self.wq(q)  # (batch_size, seq_len, d_model)\n",
        "    k = self.wk(k)  # (batch_size, seq_len, d_model)\n",
        "    v = self.wv(v)  # (batch_size, seq_len, d_model)\n",
        "\n",
        "    q = self.split_heads(q, batch_size)  # (batch_size, num_heads, seq_len_q, depth)\n",
        "    k = self.split_heads(k, batch_size)  # (batch_size, num_heads, seq_len_k, depth)\n",
        "    v = self.split_heads(v, batch_size)  # (batch_size, num_heads, seq_len_v, depth)\n",
        "\n",
        "    # scaled_attention.shape == (batch_size, num_heads, seq_len_q, depth)\n",
        "    # attention_weights.shape == (batch_size, num_heads, seq_len_q, seq_len_k)\n",
        "    scaled_attention, attention_weights = scaled_dot_product_attention(\n",
        "        q, k, v, mask)\n",
        "\n",
        "    scaled_attention = tf.transpose(scaled_attention, perm=[0, 2, 1, 3])  # (batch_size, seq_len_q, num_heads, depth)\n",
        "\n",
        "    concat_attention = tf.reshape(scaled_attention,\n",
        "                                  (batch_size, -1, self.d_model))  # (batch_size, seq_len_q, d_model)\n",
        "\n",
        "    output = self.dense(concat_attention)  # (batch_size, seq_len_q, d_model)\n",
        "\n",
        "    return output, attention_weights"
      ]
    },
    {
      "cell_type": "markdown",
      "metadata": {
        "id": "0D8FJue5lDyZ"
      },
      "source": [
        "Create a `MultiHeadAttention` layer to try out. At each location in the sequence, `y`, the `MultiHeadAttention` runs all 8 attention heads across all other locations in the sequence, returning a new vector of the same length at each location."
      ]
    },
    {
      "cell_type": "code",
      "execution_count": null,
      "metadata": {
        "colab": {
          "base_uri": "https://localhost:8080/"
        },
        "id": "Hu94p-_-2_BX",
        "outputId": "726730d2-03ec-4f32-f0cc-828bdeb3d3c7"
      },
      "outputs": [
        {
          "data": {
            "text/plain": [
              "(TensorShape([2, 3, 4]), TensorShape([2, 2, 3, 3]))"
            ]
          },
          "execution_count": 29,
          "metadata": {},
          "output_type": "execute_result"
        }
      ],
      "source": [
        "temp_mha = MultiHeadAttention(d_model=4, num_heads=2)\n",
        "y = tf.random.uniform((2, 3, 4))  # (batch_size, encoder_sequence, d_model)\n",
        "out, attn = temp_mha(v=y, k=y, q=y, mask=None)\n",
        "out.shape, attn.shape"
      ]
    },
    {
      "cell_type": "code",
      "execution_count": null,
      "metadata": {
        "colab": {
          "base_uri": "https://localhost:8080/"
        },
        "id": "KCf03zinNsHA",
        "outputId": "76b0dd51-2560-4159-9ccb-37a252868037"
      },
      "outputs": [
        {
          "data": {
            "text/plain": [
              "<tf.Tensor: shape=(3, 3), dtype=float32, numpy=\n",
              "array([[0.33975732, 0.33772483, 0.3225179 ],\n",
              "       [0.20027722, 0.59952796, 0.20019482],\n",
              "       [0.3342905 , 0.34223723, 0.32347226]], dtype=float32)>"
            ]
          },
          "execution_count": 30,
          "metadata": {},
          "output_type": "execute_result"
        }
      ],
      "source": [
        "attn[0][0]"
      ]
    },
    {
      "cell_type": "markdown",
      "metadata": {
        "id": "nBQuibYA4n0n"
      },
      "source": [
        "## Positional encoding\n",
        "\n",
        "Since this model doesn't contain any recurrence or convolution, positional encoding is added to give the model some information about the relative position of the words in the sentence.\n",
        "\n",
        "The positional encoding vector is added to the embedding vector. Embeddings represent a token in a d-dimensional space where tokens with similar meaning will be closer to each other. But the embeddings do not encode the relative position of words in a sentence. So after adding the positional encoding, words will be closer to each other based on the *similarity of their meaning and their position in the sentence*, in the d-dimensional space.\n",
        "\n",
        "The formula for calculating the positional encoding is as follows:\n",
        "\n",
        "$$\\Large{PE_{(pos, 2i)} = sin(pos / 10000^{2i / d_{model}})} $$\n",
        "$$\\Large{PE_{(pos, 2i+1)} = cos(pos / 10000^{2i / d_{model}})} $$"
      ]
    },
    {
      "cell_type": "code",
      "execution_count": null,
      "metadata": {
        "id": "WhIOZjMNKujn"
      },
      "outputs": [],
      "source": [
        "def get_angles(pos, i, d_model):\n",
        "  angle_rates = 1 / np.power(10000, (2 * (i//2)) / np.float32(d_model))\n",
        "  return pos * angle_rates"
      ]
    },
    {
      "cell_type": "code",
      "execution_count": null,
      "metadata": {
        "id": "1Rz82wEs5biZ"
      },
      "outputs": [],
      "source": [
        "def positional_encoding(position, d_model):\n",
        "  angle_rads = get_angles(np.arange(position)[:, np.newaxis],\n",
        "                          np.arange(d_model)[np.newaxis, :],\n",
        "                          d_model)\n",
        "\n",
        "  # apply sin to even indices in the array; 2i\n",
        "  angle_rads[:, 0::2] = np.sin(angle_rads[:, 0::2])\n",
        "\n",
        "  # apply cos to odd indices in the array; 2i+1\n",
        "  angle_rads[:, 1::2] = np.cos(angle_rads[:, 1::2])\n",
        "\n",
        "  pos_encoding = angle_rads[np.newaxis, ...]\n",
        "\n",
        "  return tf.cast(pos_encoding, dtype=tf.float32)"
      ]
    },
    {
      "cell_type": "code",
      "execution_count": null,
      "metadata": {
        "colab": {
          "base_uri": "https://localhost:8080/",
          "height": 486
        },
        "id": "1kLCla68EloE",
        "outputId": "bb687a50-6597-40e5-d513-800df1d679f1"
      },
      "outputs": [
        {
          "name": "stdout",
          "output_type": "stream",
          "text": [
            "(1, 10, 512)\n"
          ]
        },
        {
          "data": {
            "image/png": "[encoded data removed]",
            "text/plain": [
              "<Figure size 640x480 with 2 Axes>"
            ]
          },
          "metadata": {},
          "output_type": "display_data"
        }
      ],
      "source": [
        "pos_encoding = positional_encoding(10, 512)\n",
        "print (pos_encoding.shape)\n",
        "\n",
        "plt.pcolormesh(pos_encoding[0], cmap='RdBu')\n",
        "plt.xlabel('Depth')\n",
        "plt.xlim((0, 512))\n",
        "plt.ylabel('Position')\n",
        "plt.colorbar()\n",
        "plt.show()"
      ]
    },
    {
      "cell_type": "markdown",
      "metadata": {
        "id": "a_b4ou4TYqUN"
      },
      "source": [
        "## Masking"
      ]
    },
    {
      "cell_type": "markdown",
      "metadata": {
        "id": "s42Uydjkv0hF"
      },
      "source": [
        "Mask all the pad tokens in the batch of sequence. It ensures that the model does not treat padding as the input. The mask indicates where pad value `0` is present: it outputs a `1` at those locations, and a `0` otherwise."
      ]
    },
    {
      "cell_type": "code",
      "execution_count": null,
      "metadata": {
        "id": "U2i8-e1s8ti9"
      },
      "outputs": [],
      "source": [
        "def create_padding_mask(seq):\n",
        "  seq = tf.cast(tf.math.equal(seq, 0), tf.float32)\n",
        "\n",
        "  # add extra dimensions to add the padding\n",
        "  # to the attention logits.\n",
        "  return seq[:, tf.newaxis, tf.newaxis, :]  # (batch_size, 1, 1, seq_len)"
      ]
    },
    {
      "cell_type": "code",
      "execution_count": null,
      "metadata": {
        "colab": {
          "base_uri": "https://localhost:8080/"
        },
        "id": "A7BYeBCNvi7n",
        "outputId": "f6645eff-b035-49d2-a846-3fae1bda5c00"
      },
      "outputs": [
        {
          "data": {
            "text/plain": [
              "<tf.Tensor: shape=(3, 1, 1, 5), dtype=float32, numpy=\n",
              "array([[[[0., 0., 1., 1., 0.]]],\n",
              "\n",
              "\n",
              "       [[[0., 0., 0., 1., 1.]]],\n",
              "\n",
              "\n",
              "       [[[1., 1., 1., 0., 0.]]]], dtype=float32)>"
            ]
          },
          "execution_count": 35,
          "metadata": {},
          "output_type": "execute_result"
        }
      ],
      "source": [
        "x = tf.constant([[7, 6, 0, 0, 1], [1, 2, 3, 0, 0], [0, 0, 0, 4, 5]])\n",
        "create_padding_mask(x)"
      ]
    },
    {
      "cell_type": "code",
      "execution_count": null,
      "metadata": {
        "id": "fG5gqr1nXkPM"
      },
      "outputs": [],
      "source": []
    },
    {
      "cell_type": "markdown",
      "metadata": {
        "id": "Z0hzukDBgVom"
      },
      "source": [
        "The look-ahead mask is used to mask the future tokens in a sequence. In other words, the mask indicates which entries should not be used.\n",
        "\n",
        "This means that to predict the third word, only the first and second word will be used. Similarly to predict the fourth word, only the first, second and the third word will be used and so on."
      ]
    },
    {
      "cell_type": "code",
      "execution_count": null,
      "metadata": {
        "id": "dVxS8OPI9uI0"
      },
      "outputs": [],
      "source": [
        "def create_look_ahead_mask(size):\n",
        "  mask = 1 - tf.linalg.band_part(tf.ones((size, size)), -1, 0)\n",
        "  return mask  # (seq_len, seq_len)"
      ]
    },
    {
      "cell_type": "code",
      "execution_count": null,
      "metadata": {
        "colab": {
          "base_uri": "https://localhost:8080/"
        },
        "id": "yxKGuXxaBeeE",
        "outputId": "f736571e-de8a-4433-f95d-a4d7277fc261"
      },
      "outputs": [
        {
          "data": {
            "text/plain": [
              "<tf.Tensor: shape=(3, 3), dtype=float32, numpy=\n",
              "array([[0., 1., 1.],\n",
              "       [0., 0., 1.],\n",
              "       [0., 0., 0.]], dtype=float32)>"
            ]
          },
          "execution_count": 37,
          "metadata": {},
          "output_type": "execute_result"
        }
      ],
      "source": [
        "x = tf.random.uniform((3, 3))\n",
        "temp = create_look_ahead_mask(x.shape[1])\n",
        "temp"
      ]
    },
    {
      "cell_type": "markdown",
      "metadata": {
        "id": "RdDqGayx67vv"
      },
      "source": [
        "## Point wise feed forward network"
      ]
    },
    {
      "cell_type": "markdown",
      "metadata": {
        "id": "gBqzJXGfHK3X"
      },
      "source": [
        "Point wise feed forward network consists of two fully-connected layers with a ReLU activation in between."
      ]
    },
    {
      "cell_type": "code",
      "execution_count": null,
      "metadata": {
        "id": "ET7xLt0yCT6Z"
      },
      "outputs": [],
      "source": [
        "def point_wise_feed_forward_network(d_model, dff):\n",
        "  return tf.keras.Sequential([\n",
        "      tf.keras.layers.Dense(dff, activation='relu'),  # (batch_size, seq_len, dff)\n",
        "      tf.keras.layers.Dense(d_model)  # (batch_size, seq_len, d_model)\n",
        "  ])"
      ]
    },
    {
      "cell_type": "code",
      "execution_count": null,
      "metadata": {
        "colab": {
          "base_uri": "https://localhost:8080/"
        },
        "id": "mytb1lPyOHLB",
        "outputId": "0326b764-853f-4586-caa1-dc6551d67a34"
      },
      "outputs": [
        {
          "data": {
            "text/plain": [
              "TensorShape([64, 3, 3])"
            ]
          },
          "execution_count": 39,
          "metadata": {},
          "output_type": "execute_result"
        }
      ],
      "source": [
        "sample_ffn = point_wise_feed_forward_network(3, 4)\n",
        "sample_ffn(tf.random.uniform((64, 3, 4))).shape"
      ]
    },
    {
      "cell_type": "code",
      "execution_count": null,
      "metadata": {
        "colab": {
          "base_uri": "https://localhost:8080/"
        },
        "id": "aF6fNkn7yzvJ",
        "outputId": "29f3e907-4690-4fbb-d517-b18b2fefd4b9"
      },
      "outputs": [
        {
          "name": "stdout",
          "output_type": "stream",
          "text": [
            "Model: \"sequential\"\n",
            "_________________________________________________________________\n",
            " Layer (type)                Output Shape              Param #   \n",
            "=================================================================\n",
            " dense_4 (Dense)             (64, 3, 4)                20        \n",
            "                                                                 \n",
            " dense_5 (Dense)             (64, 3, 3)                15        \n",
            "                                                                 \n",
            "=================================================================\n",
            "Total params: 35 (140.00 Byte)\n",
            "Trainable params: 35 (140.00 Byte)\n",
            "Non-trainable params: 0 (0.00 Byte)\n",
            "_________________________________________________________________\n"
          ]
        }
      ],
      "source": [
        "sample_ffn.summary()"
      ]
    },
    {
      "cell_type": "markdown",
      "metadata": {
        "id": "7e7hKcxn6-zd"
      },
      "source": [
        "## Encoder and decoder"
      ]
    },
    {
      "cell_type": "markdown",
      "metadata": {
        "id": "yScbC0MUH8dS"
      },
      "source": [
        "<img src=\"https://www.tensorflow.org/images/tutorials/transformer/transformer.png\" width=\"600\" alt=\"transformer\">"
      ]
    },
    {
      "cell_type": "markdown",
      "metadata": {
        "id": "QFv-FNYUmvpn"
      },
      "source": [
        "### Encoder layer\n",
        "\n",
        "Each encoder layer consists of sublayers:\n",
        "\n",
        "1.   Multi-head attention (with padding mask)\n",
        "2.    Point wise feed forward networks.\n",
        "\n",
        "Each of these sublayers has a residual connection around it followed by a layer normalization. Residual connections help in avoiding the vanishing gradient problem in deep networks.\n",
        "\n",
        "The output of each sublayer is `LayerNorm(x + Sublayer(x))`. The normalization is done on the `d_model` (last) axis. There are N encoder layers in the transformer."
      ]
    },
    {
      "cell_type": "code",
      "execution_count": null,
      "metadata": {
        "id": "ncyS-Ms3i2x_"
      },
      "outputs": [],
      "source": [
        "class EncoderLayer(tf.keras.layers.Layer):\n",
        "  def __init__(self, d_model, num_heads, dff, rate=0.1):\n",
        "    super(EncoderLayer, self).__init__()\n",
        "\n",
        "    self.mha = MultiHeadAttention(d_model, num_heads)\n",
        "    self.ffn = point_wise_feed_forward_network(d_model, dff)\n",
        "\n",
        "    self.layernorm1 = tf.keras.layers.LayerNormalization(epsilon=1e-6)\n",
        "    self.layernorm2 = tf.keras.layers.LayerNormalization(epsilon=1e-6)\n",
        "\n",
        "    self.dropout1 = tf.keras.layers.Dropout(rate)\n",
        "    self.dropout2 = tf.keras.layers.Dropout(rate)\n",
        "\n",
        "  def call(self, x, training, mask):\n",
        "\n",
        "    attn_output, _ = self.mha(x, x, x, mask)  # (batch_size, input_seq_len, d_model)\n",
        "    attn_output = self.dropout1(attn_output, training=training)\n",
        "    out1 = self.layernorm1(x + attn_output)  # (batch_size, input_seq_len, d_model)\n",
        "\n",
        "    ffn_output = self.ffn(out1)  # (batch_size, input_seq_len, d_model)\n",
        "    ffn_output = self.dropout2(ffn_output, training=training)\n",
        "    out2 = self.layernorm2(out1 + ffn_output)  # (batch_size, input_seq_len, d_model)\n",
        "\n",
        "    return out2"
      ]
    },
    {
      "cell_type": "code",
      "execution_count": null,
      "metadata": {
        "colab": {
          "base_uri": "https://localhost:8080/"
        },
        "id": "AzZRXdO0mI48",
        "outputId": "3f8b075e-f021-442c-bea0-af8fc6f17c4e"
      },
      "outputs": [
        {
          "data": {
            "text/plain": [
              "TensorShape([64, 3, 4])"
            ]
          },
          "execution_count": 42,
          "metadata": {},
          "output_type": "execute_result"
        }
      ],
      "source": [
        "sample_encoder_layer = EncoderLayer(4, 2, 7)\n",
        "\n",
        "sample_encoder_layer_output = sample_encoder_layer(\n",
        "    tf.random.uniform((64, 3, 4)), False, None)\n",
        "\n",
        "sample_encoder_layer_output.shape  # (batch_size, input_seq_len, d_model)"
      ]
    },
    {
      "cell_type": "markdown",
      "metadata": {
        "id": "6LO_48Owmx_o"
      },
      "source": [
        "### Decoder layer\n",
        "\n",
        "Each decoder layer consists of sublayers:\n",
        "\n",
        "1.   Masked multi-head attention (with look ahead mask and padding mask)\n",
        "2.   Multi-head attention (with padding mask). V (value) and K (key) receive the *encoder output* as inputs. Q (query) receives the *output from the masked multi-head attention sublayer.*\n",
        "3.   Point wise feed forward networks\n",
        "\n",
        "Each of these sublayers has a residual connection around it followed by a layer normalization. The output of each sublayer is `LayerNorm(x + Sublayer(x))`. The normalization is done on the `d_model` (last) axis.\n",
        "\n",
        "There are N decoder layers in the transformer.\n",
        "\n",
        "As Q receives the output from decoder's first attention block, and K receives the encoder output, the attention weights represent the importance given to the decoder's input based on the encoder's output. In other words, the decoder predicts the next word by looking at the encoder output and self-attending to its own output. See the demonstration above in the scaled dot product attention section."
      ]
    },
    {
      "cell_type": "code",
      "execution_count": null,
      "metadata": {
        "id": "9SoX0-vd1hue"
      },
      "outputs": [],
      "source": [
        "class DecoderLayer(tf.keras.layers.Layer):\n",
        "  def __init__(self, d_model, num_heads, dff, rate=0.1):\n",
        "    super(DecoderLayer, self).__init__()\n",
        "\n",
        "    self.mha1 = MultiHeadAttention(d_model, num_heads)\n",
        "    self.mha2 = MultiHeadAttention(d_model, num_heads)\n",
        "\n",
        "    self.ffn = point_wise_feed_forward_network(d_model, dff)\n",
        "\n",
        "    self.layernorm1 = tf.keras.layers.LayerNormalization(epsilon=1e-6)\n",
        "    self.layernorm2 = tf.keras.layers.LayerNormalization(epsilon=1e-6)\n",
        "    self.layernorm3 = tf.keras.layers.LayerNormalization(epsilon=1e-6)\n",
        "\n",
        "    self.dropout1 = tf.keras.layers.Dropout(rate)\n",
        "    self.dropout2 = tf.keras.layers.Dropout(rate)\n",
        "    self.dropout3 = tf.keras.layers.Dropout(rate)\n",
        "\n",
        "\n",
        "  def call(self, x, enc_output, training,\n",
        "           look_ahead_mask, padding_mask):\n",
        "    # enc_output.shape == (batch_size, input_seq_len, d_model)\n",
        "\n",
        "    attn1, attn_weights_block1 = self.mha1(x, x, x, look_ahead_mask)  # (batch_size, target_seq_len, d_model)\n",
        "    attn1 = self.dropout1(attn1, training=training)\n",
        "    out1 = self.layernorm1(attn1 + x)\n",
        "\n",
        "    attn2, attn_weights_block2 = self.mha2(\n",
        "        enc_output, enc_output, out1, padding_mask)  # (batch_size, target_seq_len, d_model)\n",
        "    attn2 = self.dropout2(attn2, training=training)\n",
        "    out2 = self.layernorm2(attn2 + out1)  # (batch_size, target_seq_len, d_model)\n",
        "\n",
        "    ffn_output = self.ffn(out2)  # (batch_size, target_seq_len, d_model)\n",
        "    ffn_output = self.dropout3(ffn_output, training=training)\n",
        "    out3 = self.layernorm3(ffn_output + out2)  # (batch_size, target_seq_len, d_model)\n",
        "\n",
        "    return out3, attn_weights_block1, attn_weights_block2"
      ]
    },
    {
      "cell_type": "code",
      "execution_count": null,
      "metadata": {
        "colab": {
          "base_uri": "https://localhost:8080/"
        },
        "id": "Ne2Bqx8k71l0",
        "outputId": "9118e523-2965-4e70-e3c8-875d81069856"
      },
      "outputs": [
        {
          "data": {
            "text/plain": [
              "TensorShape([64, 3, 4])"
            ]
          },
          "execution_count": 44,
          "metadata": {},
          "output_type": "execute_result"
        }
      ],
      "source": [
        "sample_decoder_layer = DecoderLayer(4, 2, 7)\n",
        "\n",
        "sample_decoder_layer_output, _, _ = sample_decoder_layer(\n",
        "    tf.random.uniform((64, 3, 4)), sample_encoder_layer_output,\n",
        "    False, None, None)\n",
        "\n",
        "sample_decoder_layer_output.shape  # (batch_size, target_seq_len, d_model)"
      ]
    },
    {
      "cell_type": "code",
      "execution_count": null,
      "metadata": {
        "id": "BnquLx56zZdk"
      },
      "outputs": [],
      "source": []
    },
    {
      "cell_type": "markdown",
      "metadata": {
        "id": "SE1H51Ajm0q1"
      },
      "source": [
        "### Encoder\n",
        "\n",
        "The `Encoder` consists of:\n",
        "1.   Input Embedding\n",
        "2.   Positional Encoding\n",
        "3.   N encoder layers\n",
        "\n",
        "The input is put through an embedding which is summed with the positional encoding. The output of this summation is the input to the encoder layers. The output of the encoder is the input to the decoder."
      ]
    },
    {
      "cell_type": "code",
      "execution_count": null,
      "metadata": {
        "id": "mPIHBjvsCPYW"
      },
      "outputs": [],
      "source": []
    },
    {
      "cell_type": "code",
      "execution_count": null,
      "metadata": {
        "id": "jpEox7gJ8FCI"
      },
      "outputs": [],
      "source": [
        "class Encoder(tf.keras.layers.Layer):\n",
        "  def __init__(self, num_layers, d_model, num_heads, dff, input_vocab_size,\n",
        "               maximum_position_encoding, rate=0.1):\n",
        "    super(Encoder, self).__init__()\n",
        "\n",
        "    self.d_model = d_model\n",
        "    self.num_layers = num_layers\n",
        "\n",
        "    self.embedding = tf.keras.layers.Embedding(input_vocab_size, d_model)\n",
        "    self.pos_encoding = positional_encoding(maximum_position_encoding,\n",
        "                                            self.d_model)\n",
        "\n",
        "\n",
        "    self.enc_layers = [EncoderLayer(d_model, num_heads, dff, rate)\n",
        "                       for _ in range(num_layers)]\n",
        "\n",
        "    self.dropout = tf.keras.layers.Dropout(rate)\n",
        "\n",
        "  def call(self, x, training, mask):\n",
        "\n",
        "    seq_len = tf.shape(x)[1]\n",
        "    # adding embedding and position encoding.\n",
        "    x = self.embedding(x)  # (batch_size, input_seq_len, d_model)\n",
        "    x *= tf.math.sqrt(tf.cast(self.d_model, tf.float32))\n",
        "    x += self.pos_encoding[:, :seq_len, :]\n",
        "    x = self.dropout(x, training=training)\n",
        "\n",
        "    for i in range(self.num_layers):\n",
        "      x = self.enc_layers[i](x, training, mask)\n",
        "\n",
        "    return x  # (batch_size, input_seq_len, d_model)"
      ]
    },
    {
      "cell_type": "code",
      "execution_count": null,
      "metadata": {
        "colab": {
          "base_uri": "https://localhost:8080/"
        },
        "id": "8QG9nueFQKXx",
        "outputId": "1f928599-99a1-4371-d7f3-4ba41b58821c"
      },
      "outputs": [
        {
          "name": "stdout",
          "output_type": "stream",
          "text": [
            "(512, 3, 4)\n"
          ]
        }
      ],
      "source": [
        "sample_encoder = Encoder(num_layers=1, d_model=4, num_heads=2,\n",
        "                         dff=7, input_vocab_size=8500,\n",
        "                         maximum_position_encoding=10000)\n",
        "temp_input = tf.random.uniform((512, 3), dtype=tf.int64, minval=0, maxval=200)\n",
        "\n",
        "sample_encoder_output = sample_encoder(temp_input, training=False, mask=None)\n",
        "\n",
        "print (sample_encoder_output.shape)  # (batch_size, input_seq_len, d_model)"
      ]
    },
    {
      "cell_type": "code",
      "execution_count": null,
      "metadata": {
        "colab": {
          "base_uri": "https://localhost:8080/"
        },
        "id": "lLwqNG9_zYy9",
        "outputId": "79f8e84f-4d37-401c-8d43-585a77895251"
      },
      "outputs": [
        {
          "data": {
            "text/plain": [
              "<tf.Tensor: shape=(4,), dtype=float32, numpy=array([ 0.02154297,  0.00951443,  0.02964132, -0.00389347], dtype=float32)>"
            ]
          },
          "execution_count": 47,
          "metadata": {},
          "output_type": "execute_result"
        }
      ],
      "source": [
        "eb=tf.keras.layers.Embedding(800, 4)\n",
        "eb(622)"
      ]
    },
    {
      "cell_type": "code",
      "execution_count": null,
      "metadata": {
        "id": "na3WMc6-7n-G"
      },
      "outputs": [],
      "source": []
    },
    {
      "cell_type": "markdown",
      "metadata": {
        "id": "p-uO6ls8m2O5"
      },
      "source": [
        "### Decoder"
      ]
    },
    {
      "cell_type": "markdown",
      "metadata": {
        "id": "ZtT7PKzrXkNr"
      },
      "source": [
        " The `Decoder` consists of:\n",
        "1.   Output Embedding\n",
        "2.   Positional Encoding\n",
        "3.   N decoder layers\n",
        "\n",
        "The target is put through an embedding which is summed with the positional encoding. The output of this summation is the input to the decoder layers. The output of the decoder is the input to the final linear layer."
      ]
    },
    {
      "cell_type": "code",
      "execution_count": null,
      "metadata": {
        "id": "d5_d5-PLQXwY"
      },
      "outputs": [],
      "source": [
        "class Decoder(tf.keras.layers.Layer):\n",
        "  def __init__(self, num_layers, d_model, num_heads, dff, target_vocab_size,\n",
        "               maximum_position_encoding, rate=0.1):\n",
        "    super(Decoder, self).__init__()\n",
        "\n",
        "    self.d_model = d_model\n",
        "    self.num_layers = num_layers\n",
        "\n",
        "    self.embedding = tf.keras.layers.Embedding(target_vocab_size, d_model)\n",
        "    self.pos_encoding = positional_encoding(maximum_position_encoding, d_model)\n",
        "\n",
        "    self.dec_layers = [DecoderLayer(d_model, num_heads, dff, rate)\n",
        "                       for _ in range(num_layers)]\n",
        "    self.dropout = tf.keras.layers.Dropout(rate)\n",
        "\n",
        "  def call(self, x, enc_output, training,\n",
        "           look_ahead_mask, padding_mask):\n",
        "\n",
        "    seq_len = tf.shape(x)[1]\n",
        "    attention_weights = {}\n",
        "\n",
        "    x = self.embedding(x)  # (batch_size, target_seq_len, d_model)\n",
        "    # x *= tf.math.sqrt(tf.cast(self.d_model, tf.float32))\n",
        "    # x += self.pos_encoding[:, :seq_len, :]\n",
        "\n",
        "    x = self.dropout(x, training=training)\n",
        "\n",
        "    for i in range(self.num_layers):\n",
        "      x, block1, block2 = self.dec_layers[i](x, enc_output, training,\n",
        "                                             look_ahead_mask, padding_mask)\n",
        "\n",
        "      attention_weights['decoder_layer{}_block1'.format(i+1)] = block1\n",
        "      attention_weights['decoder_layer{}_block2'.format(i+1)] = block2\n",
        "\n",
        "    # x.shape == (batch_size, target_seq_len, d_model)\n",
        "    return x, attention_weights"
      ]
    },
    {
      "cell_type": "code",
      "execution_count": null,
      "metadata": {
        "colab": {
          "base_uri": "https://localhost:8080/"
        },
        "id": "a1jXoAMRZyvu",
        "outputId": "b82f0595-f6f9-4c40-f5a5-a3cd4952cb26"
      },
      "outputs": [
        {
          "data": {
            "text/plain": [
              "(TensorShape([64, 3, 4]), TensorShape([64, 2, 3, 24]))"
            ]
          },
          "execution_count": 49,
          "metadata": {},
          "output_type": "execute_result"
        }
      ],
      "source": [
        "sample_decoder = Decoder(num_layers=2, d_model=4, num_heads=2,\n",
        "                         dff=2048, target_vocab_size=8000,\n",
        "                         maximum_position_encoding=5000)\n",
        "temp_input = tf.random.uniform((64, 3), dtype=tf.int64, minval=0, maxval=200)\n",
        "\n",
        "output, attn = sample_decoder(temp_input,\n",
        "                              enc_output=sample_encoder_output,\n",
        "                              training=False,\n",
        "                              look_ahead_mask=None,\n",
        "                              padding_mask=None)\n",
        "\n",
        "output.shape, attn['decoder_layer2_block2'].shape"
      ]
    },
    {
      "cell_type": "code",
      "execution_count": null,
      "metadata": {
        "id": "FEnC2EYpzzvc"
      },
      "outputs": [],
      "source": []
    },
    {
      "cell_type": "markdown",
      "metadata": {
        "id": "y54xnJnuYgJ7"
      },
      "source": [
        "## Create the Transformer"
      ]
    },
    {
      "cell_type": "markdown",
      "metadata": {
        "id": "uERO1y54cOKq"
      },
      "source": [
        "Transformer consists of the encoder, decoder and a final linear layer. The output of the decoder is the input to the linear layer and its output is returned."
      ]
    },
    {
      "cell_type": "code",
      "execution_count": null,
      "metadata": {
        "id": "PED3bIpOYkBu"
      },
      "outputs": [],
      "source": [
        "class Transformer(tf.keras.Model):\n",
        "  def __init__(self, num_layers, d_model, num_heads, dff, input_vocab_size,\n",
        "               target_vocab_size, pe_input, pe_target, rate=0.1):\n",
        "    super(Transformer, self).__init__()\n",
        "\n",
        "    self.encoder = Encoder(num_layers, d_model, num_heads, dff,\n",
        "                           input_vocab_size, pe_input, rate)\n",
        "\n",
        "    self.decoder = Decoder(num_layers, d_model, num_heads, dff,\n",
        "                           target_vocab_size, pe_target, rate)\n",
        "\n",
        "    self.final_layer = tf.keras.layers.Dense(target_vocab_size)\n",
        "\n",
        "  def call(self, inp, tar, training, enc_padding_mask,\n",
        "           look_ahead_mask, dec_padding_mask):\n",
        "\n",
        "    enc_output = self.encoder(inp, training, enc_padding_mask)  # (batch_size, inp_seq_len, d_model)\n",
        "\n",
        "    # dec_output.shape == (batch_size, tar_seq_len, d_model)\n",
        "    dec_output, attention_weights = self.decoder(\n",
        "        tar, enc_output, training, look_ahead_mask, dec_padding_mask)\n",
        "\n",
        "    final_output = self.final_layer(dec_output)  # (batch_size, tar_seq_len, target_vocab_size)\n",
        "\n",
        "    return final_output, attention_weights"
      ]
    },
    {
      "cell_type": "code",
      "execution_count": null,
      "metadata": {
        "colab": {
          "base_uri": "https://localhost:8080/"
        },
        "id": "tJ4fbQcIkHW1",
        "outputId": "0141ff0d-6547-4c92-da63-ba0844168e7e"
      },
      "outputs": [
        {
          "data": {
            "text/plain": [
              "TensorShape([512, 3, 8000])"
            ]
          },
          "execution_count": 51,
          "metadata": {},
          "output_type": "execute_result"
        }
      ],
      "source": [
        "sample_transformer = Transformer(\n",
        "    num_layers=2, d_model=4, num_heads=2, dff=7,\n",
        "    input_vocab_size=8500, target_vocab_size=8000,\n",
        "    pe_input=10000, pe_target=6000)\n",
        "\n",
        "temp_input = tf.random.uniform((512, 3), dtype=tf.int64, minval=0, maxval=200)\n",
        "temp_target = tf.random.uniform((512, 3), dtype=tf.int64, minval=0, maxval=200)\n",
        "\n",
        "fn_out, _ = sample_transformer(temp_input, temp_target, training=False,\n",
        "                               enc_padding_mask=None,\n",
        "                               look_ahead_mask=None,\n",
        "                               dec_padding_mask=None)\n",
        "\n",
        "fn_out.shape  # (batch_size, tar_seq_len, target_vocab_size)"
      ]
    },
    {
      "cell_type": "code",
      "execution_count": null,
      "metadata": {
        "colab": {
          "base_uri": "https://localhost:8080/"
        },
        "id": "WzF0uyBTzhOG",
        "outputId": "d6b3f321-83b4-4b2d-eaf3-ef3af5603673"
      },
      "outputs": [
        {
          "name": "stdout",
          "output_type": "stream",
          "text": [
            "Model: \"transformer\"\n",
            "_________________________________________________________________\n",
            " Layer (type)                Output Shape              Param #   \n",
            "=================================================================\n",
            " encoder_1 (Encoder)         multiple                  34326     \n",
            "                                                                 \n",
            " decoder_1 (Decoder)         multiple                  32502     \n",
            "                                                                 \n",
            " dense_80 (Dense)            multiple                  40000     \n",
            "                                                                 \n",
            "=================================================================\n",
            "Total params: 106828 (417.30 KB)\n",
            "Trainable params: 106828 (417.30 KB)\n",
            "Non-trainable params: 0 (0.00 Byte)\n",
            "_________________________________________________________________\n"
          ]
        }
      ],
      "source": [
        "sample_transformer.summary()"
      ]
    },
    {
      "cell_type": "markdown",
      "metadata": {
        "id": "wsINyf1VEQLC"
      },
      "source": [
        "## Set hyperparameters"
      ]
    },
    {
      "cell_type": "code",
      "execution_count": null,
      "metadata": {
        "id": "bP5fk79FzgN5"
      },
      "outputs": [],
      "source": []
    },
    {
      "cell_type": "markdown",
      "metadata": {
        "id": "zVjWCxFNcgbt"
      },
      "source": [
        "To keep this example small and relatively fast, the values for *num_layers, d_model, and dff* have been reduced.\n",
        "\n",
        "The values used in the base model of transformer were; *num_layers=6*, *d_model = 512*, *dff = 2048*. See the [paper](https://arxiv.org/abs/1706.03762) for all the other versions of the transformer.\n",
        "\n",
        "Note: By changing the values below, you can get the model that achieved state of the art on many tasks."
      ]
    },
    {
      "cell_type": "code",
      "execution_count": null,
      "metadata": {
        "id": "lnJn5SLA2ahP"
      },
      "outputs": [],
      "source": [
        "num_layers = 4\n",
        "d_model = 128\n",
        "dff = 512\n",
        "num_heads = 8\n",
        "\n",
        "input_vocab_size = tokenizer_pt.vocab_size + 2\n",
        "target_vocab_size = tokenizer_en.vocab_size + 2\n",
        "dropout_rate = 0.1"
      ]
    },
    {
      "cell_type": "markdown",
      "metadata": {
        "id": "xYEGhEOtzn5W"
      },
      "source": [
        "## Optimizer"
      ]
    },
    {
      "cell_type": "code",
      "execution_count": null,
      "metadata": {
        "id": "8a_CTrcQzJ6U"
      },
      "outputs": [],
      "source": [
        "decay_steps = 10\n",
        "initial_learning_rate = 0.001\n",
        "warmup_steps = 10\n",
        "target_learning_rate = 0.0004\n",
        "lr_warmup_decayed_fn = tf.keras.optimizers.schedules.CosineDecay(\n",
        "    initial_learning_rate, decay_steps, warmup_target=target_learning_rate,\n",
        "    warmup_steps=warmup_steps\n",
        ")"
      ]
    },
    {
      "cell_type": "code",
      "execution_count": null,
      "metadata": {
        "id": "7r4scdulztRx"
      },
      "outputs": [],
      "source": [
        "optimizer = tf.keras.optimizers.Adam(0.0001, beta_1=0.9, beta_2=0.98,\n",
        "                                     epsilon=1e-9)"
      ]
    },
    {
      "cell_type": "code",
      "execution_count": null,
      "metadata": {
        "colab": {
          "base_uri": "https://localhost:8080/"
        },
        "id": "DwESUUznx0Ke",
        "outputId": "f4500088-cc31-44aa-9663-af0950e7bc07"
      },
      "outputs": [
        {
          "data": {
            "text/plain": [
              "<keras.src.optimizers.schedules.learning_rate_schedule.CosineDecay at 0x14da13077370>"
            ]
          },
          "execution_count": 56,
          "metadata": {},
          "output_type": "execute_result"
        }
      ],
      "source": [
        "lr_warmup_decayed_fn"
      ]
    },
    {
      "cell_type": "markdown",
      "metadata": {
        "id": "YgkDE7hzo8r5"
      },
      "source": [
        "## Loss and metrics"
      ]
    },
    {
      "cell_type": "markdown",
      "metadata": {
        "id": "oxGJtoDuYIHL"
      },
      "source": [
        "Since the target sequences are padded, it is important to apply a padding mask when calculating the loss."
      ]
    },
    {
      "cell_type": "code",
      "execution_count": null,
      "metadata": {
        "id": "MlhsJMm0TW_B"
      },
      "outputs": [],
      "source": [
        "loss_object = tf.keras.losses.SparseCategoricalCrossentropy(\n",
        "    from_logits=True, reduction='none')"
      ]
    },
    {
      "cell_type": "code",
      "execution_count": null,
      "metadata": {
        "id": "67oqVHiT0Eiu"
      },
      "outputs": [],
      "source": [
        "def loss_function(real, pred):\n",
        "  mask = tf.math.logical_not(tf.math.equal(real, 0))\n",
        "  loss_ = loss_object(real, pred)\n",
        "\n",
        "  mask = tf.cast(mask, dtype=loss_.dtype)\n",
        "  loss_ *= mask\n",
        "\n",
        "  return tf.reduce_sum(loss_)/tf.reduce_sum(mask)"
      ]
    },
    {
      "cell_type": "code",
      "execution_count": null,
      "metadata": {
        "id": "phlyxMnm-Tpx"
      },
      "outputs": [],
      "source": [
        "train_loss = tf.keras.metrics.Mean(name='train_loss')\n",
        "train_accuracy = tf.keras.metrics.SparseCategoricalAccuracy(\n",
        "    name='train_accuracy')"
      ]
    },
    {
      "cell_type": "markdown",
      "metadata": {
        "id": "aeHumfr7zmMa"
      },
      "source": [
        "## Training and checkpointing"
      ]
    },
    {
      "cell_type": "code",
      "execution_count": null,
      "metadata": {
        "id": "UiysUa--4tOU"
      },
      "outputs": [],
      "source": [
        "transformer = Transformer(num_layers, d_model, num_heads, dff,\n",
        "                          input_vocab_size, target_vocab_size,\n",
        "                          pe_input=input_vocab_size,\n",
        "                          pe_target=target_vocab_size,\n",
        "                          rate=dropout_rate)"
      ]
    },
    {
      "cell_type": "code",
      "execution_count": null,
      "metadata": {
        "id": "ZOJUSB1T8GjM"
      },
      "outputs": [],
      "source": [
        "def create_masks(inp, tar):\n",
        "  # Encoder padding mask\n",
        "  enc_padding_mask = create_padding_mask(inp)\n",
        "\n",
        "  # Used in the 2nd attention block in the decoder.\n",
        "  # This padding mask is used to mask the encoder outputs.\n",
        "  dec_padding_mask = create_padding_mask(inp)\n",
        "\n",
        "  # Used in the 1st attention block in the decoder.\n",
        "  # It is used to pad and mask future tokens in the input received by\n",
        "  # the decoder.\n",
        "  look_ahead_mask = create_look_ahead_mask(tf.shape(tar)[1])\n",
        "  dec_target_padding_mask = create_padding_mask(tar)\n",
        "  combined_mask = tf.maximum(dec_target_padding_mask, look_ahead_mask)\n",
        "\n",
        "  return enc_padding_mask, combined_mask, dec_padding_mask"
      ]
    },
    {
      "cell_type": "markdown",
      "metadata": {
        "id": "Fzuf06YZp66w"
      },
      "source": [
        "Create the checkpoint path and the checkpoint manager. This will be used to save checkpoints every `n` epochs."
      ]
    },
    {
      "cell_type": "code",
      "execution_count": null,
      "metadata": {
        "id": "hNhuYfllndLZ",
        "outputId": "bd988972-ca6c-4477-c390-595f33c7f9fb"
      },
      "outputs": [
        {
          "name": "stdout",
          "output_type": "stream",
          "text": [
            "Latest checkpoint restored!!\n"
          ]
        }
      ],
      "source": [
        "checkpoint_path = \"./checkpoints/train\"\n",
        "\n",
        "ckpt = tf.train.Checkpoint(transformer=transformer,\n",
        "                           optimizer=optimizer)\n",
        "\n",
        "ckpt_manager = tf.train.CheckpointManager(ckpt, checkpoint_path, max_to_keep=5)\n",
        "\n",
        "# if a checkpoint exists, restore the latest checkpoint.\n",
        "if ckpt_manager.latest_checkpoint:\n",
        "  ckpt.restore(ckpt_manager.latest_checkpoint)\n",
        "  print ('Latest checkpoint restored!!')"
      ]
    },
    {
      "cell_type": "markdown",
      "metadata": {
        "id": "0Di_Yaa1gf9r"
      },
      "source": [
        "The target is divided into tar_inp and tar_real. tar_inp is passed as an input to the decoder. `tar_real` is that same input shifted by 1: At each location in `tar_input`, `tar_real` contains the  next token that should be predicted.\n",
        "\n",
        "For example, `sentence` = \"SOS A lion in the jungle is sleeping EOS\"\n",
        "\n",
        "`tar_inp` =  \"SOS A lion in the jungle is sleeping\"\n",
        "\n",
        "`tar_real` = \"A lion in the jungle is sleeping EOS\"\n",
        "\n",
        "The transformer is an auto-regressive model: it makes predictions one part at a time, and uses its output so far to decide what to do next.\n",
        "\n",
        "As the transformer predicts each word, *self-attention* allows it to look at the previous words in the input sequence to better predict the next word.\n",
        "\n",
        "To prevent the model from peeking at the expected output the model uses a look-ahead mask."
      ]
    },
    {
      "cell_type": "code",
      "execution_count": null,
      "metadata": {
        "id": "LKpoA6q1sJFj"
      },
      "outputs": [],
      "source": [
        "EPOCHS = 20"
      ]
    },
    {
      "cell_type": "code",
      "execution_count": null,
      "metadata": {
        "id": "iJwmp9OE29oj"
      },
      "outputs": [],
      "source": [
        "\n",
        "def train_step(inp, tar):\n",
        "  tar_inp = tar[:, :-1]\n",
        "  tar_real = tar[:, 1:]\n",
        "\n",
        "  enc_padding_mask, combined_mask, dec_padding_mask = create_masks(inp, tar_inp)\n",
        "\n",
        "  with tf.GradientTape() as tape:\n",
        "    predictions, _ = transformer(inp, tar_inp,\n",
        "                                 True,\n",
        "                                 enc_padding_mask,\n",
        "                                 combined_mask,\n",
        "                                 dec_padding_mask)\n",
        "    loss = loss_function(tar_real, predictions)\n",
        "\n",
        "  gradients = tape.gradient(loss, transformer.trainable_variables)\n",
        "  optimizer.apply_gradients(zip(gradients, transformer.trainable_variables))\n",
        "\n",
        "  train_loss(loss)\n",
        "  train_accuracy(tar_real, predictions)"
      ]
    },
    {
      "cell_type": "markdown",
      "metadata": {
        "id": "qM2PDWGDJ_8V"
      },
      "source": [
        "Portuguese is used as the input language and English is the target language."
      ]
    },
    {
      "cell_type": "code",
      "execution_count": null,
      "metadata": {
        "colab": {
          "base_uri": "https://localhost:8080/",
          "height": 1000
        },
        "id": "bbvmaKNiznHZ",
        "outputId": "3ab260b9-9ea3-4533-d707-455d67d36fd3"
      },
      "outputs": [
        {
          "name": "stdout",
          "output_type": "stream",
          "text": [
            "Epoch 1 Batch 0 Loss 3.5607 Accuracy 0.2062\n",
            "Epoch 1 Batch 50 Loss 3.5194 Accuracy 0.2119\n",
            "Epoch 1 Batch 100 Loss 3.5209 Accuracy 0.2124\n",
            "Epoch 1 Batch 150 Loss 3.5120 Accuracy 0.2150\n",
            "Epoch 1 Batch 200 Loss 3.5076 Accuracy 0.2161\n",
            "Epoch 1 Batch 250 Loss 3.5032 Accuracy 0.2167\n",
            "Epoch 1 Batch 300 Loss 3.5007 Accuracy 0.2159\n",
            "Epoch 1 Batch 350 Loss 3.5029 Accuracy 0.2150\n",
            "Epoch 1 Batch 400 Loss 3.5027 Accuracy 0.2148\n",
            "Epoch 1 Batch 450 Loss 3.5030 Accuracy 0.2153\n",
            "Epoch 1 Batch 500 Loss 3.5038 Accuracy 0.2153\n",
            "Epoch 1 Batch 550 Loss 3.4998 Accuracy 0.2160\n",
            "Epoch 1 Batch 600 Loss 3.5027 Accuracy 0.2159\n",
            "Epoch 1 Batch 650 Loss 3.5024 Accuracy 0.2164\n",
            "Epoch 1 Batch 700 Loss 3.5011 Accuracy 0.2164\n",
            "Epoch 1 Batch 750 Loss 3.4995 Accuracy 0.2166\n",
            "Epoch 1 Batch 800 Loss 3.4961 Accuracy 0.2169\n",
            "Epoch 1 Batch 850 Loss 3.4946 Accuracy 0.2171\n",
            "Epoch 1 Batch 900 Loss 3.4947 Accuracy 0.2173\n",
            "Epoch 1 Batch 950 Loss 3.4972 Accuracy 0.2173\n",
            "Epoch 1 Batch 1000 Loss 3.4959 Accuracy 0.2178\n",
            "Epoch 1 Batch 1050 Loss 3.4946 Accuracy 0.2180\n",
            "Epoch 1 Batch 1100 Loss 3.4936 Accuracy 0.2182\n",
            "Epoch 1 Batch 1150 Loss 3.4952 Accuracy 0.2181\n",
            "Epoch 1 Batch 1200 Loss 3.4915 Accuracy 0.2184\n",
            "Epoch 1 Batch 1250 Loss 3.4901 Accuracy 0.2185\n",
            "Epoch 1 Batch 1300 Loss 3.4885 Accuracy 0.2184\n",
            "Epoch 1 Batch 1350 Loss 3.4877 Accuracy 0.2184\n",
            "Epoch 1 Batch 1400 Loss 3.4870 Accuracy 0.2185\n",
            "Epoch 1 Loss 3.4868 Accuracy 0.2185\n",
            "Time taken for 1 epoch: 1034.6408517360687 secs\n",
            "\n",
            "Epoch 2 Batch 0 Loss 3.3630 Accuracy 0.2420\n",
            "Epoch 2 Batch 50 Loss 3.4142 Accuracy 0.2220\n",
            "Epoch 2 Batch 100 Loss 3.4016 Accuracy 0.2219\n",
            "Epoch 2 Batch 150 Loss 3.4002 Accuracy 0.2231\n",
            "Epoch 2 Batch 200 Loss 3.3994 Accuracy 0.2240\n",
            "Epoch 2 Batch 250 Loss 3.3956 Accuracy 0.2242\n",
            "Epoch 2 Batch 300 Loss 3.3865 Accuracy 0.2243\n",
            "Epoch 2 Batch 350 Loss 3.3883 Accuracy 0.2249\n",
            "Epoch 2 Batch 400 Loss 3.3886 Accuracy 0.2255\n",
            "Epoch 2 Batch 450 Loss 3.3866 Accuracy 0.2257\n",
            "Epoch 2 Batch 500 Loss 3.3851 Accuracy 0.2259\n",
            "Epoch 2 Batch 550 Loss 3.3869 Accuracy 0.2255\n",
            "Epoch 2 Batch 600 Loss 3.3870 Accuracy 0.2255\n",
            "Epoch 2 Batch 650 Loss 3.3865 Accuracy 0.2253\n",
            "Epoch 2 Batch 700 Loss 3.3853 Accuracy 0.2253\n",
            "Epoch 2 Batch 750 Loss 3.3872 Accuracy 0.2252\n",
            "Epoch 2 Batch 800 Loss 3.3871 Accuracy 0.2251\n",
            "Epoch 2 Batch 850 Loss 3.3864 Accuracy 0.2254\n",
            "Epoch 2 Batch 900 Loss 3.3832 Accuracy 0.2254\n",
            "Epoch 2 Batch 950 Loss 3.3816 Accuracy 0.2256\n",
            "Epoch 2 Batch 1000 Loss 3.3851 Accuracy 0.2255\n",
            "Epoch 2 Batch 1050 Loss 3.3850 Accuracy 0.2256\n",
            "Epoch 2 Batch 1100 Loss 3.3848 Accuracy 0.2255\n",
            "Epoch 2 Batch 1150 Loss 3.3829 Accuracy 0.2257\n",
            "Epoch 2 Batch 1200 Loss 3.3822 Accuracy 0.2257\n",
            "Epoch 2 Batch 1250 Loss 3.3808 Accuracy 0.2258\n",
            "Epoch 2 Batch 1300 Loss 3.3803 Accuracy 0.2257\n",
            "Epoch 2 Batch 1350 Loss 3.3798 Accuracy 0.2257\n",
            "Epoch 2 Batch 1400 Loss 3.3783 Accuracy 0.2257\n",
            "Epoch 2 Loss 3.3785 Accuracy 0.2257\n",
            "Time taken for 1 epoch: 1023.2316663265228 secs\n",
            "\n",
            "Epoch 3 Batch 0 Loss 3.4390 Accuracy 0.2089\n",
            "Epoch 3 Batch 50 Loss 3.3013 Accuracy 0.2286\n",
            "Epoch 3 Batch 100 Loss 3.3154 Accuracy 0.2285\n",
            "Epoch 3 Batch 150 Loss 3.3060 Accuracy 0.2292\n",
            "Epoch 3 Batch 200 Loss 3.3098 Accuracy 0.2307\n",
            "Epoch 3 Batch 250 Loss 3.2986 Accuracy 0.2300\n",
            "Epoch 3 Batch 300 Loss 3.3016 Accuracy 0.2302\n",
            "Epoch 3 Batch 350 Loss 3.2979 Accuracy 0.2306\n",
            "Epoch 3 Batch 400 Loss 3.2971 Accuracy 0.2306\n",
            "Epoch 3 Batch 450 Loss 3.2918 Accuracy 0.2308\n",
            "Epoch 3 Batch 500 Loss 3.2916 Accuracy 0.2307\n",
            "Epoch 3 Batch 550 Loss 3.2942 Accuracy 0.2309\n",
            "Epoch 3 Batch 600 Loss 3.2945 Accuracy 0.2312\n",
            "Epoch 3 Batch 650 Loss 3.2919 Accuracy 0.2311\n",
            "Epoch 3 Batch 700 Loss 3.2894 Accuracy 0.2315\n",
            "Epoch 3 Batch 750 Loss 3.2883 Accuracy 0.2316\n",
            "Epoch 3 Batch 800 Loss 3.2849 Accuracy 0.2315\n",
            "Epoch 3 Batch 850 Loss 3.2821 Accuracy 0.2319\n",
            "Epoch 3 Batch 900 Loss 3.2824 Accuracy 0.2320\n",
            "Epoch 3 Batch 950 Loss 3.2818 Accuracy 0.2318\n",
            "Epoch 3 Batch 1000 Loss 3.2811 Accuracy 0.2318\n",
            "Epoch 3 Batch 1050 Loss 3.2808 Accuracy 0.2320\n",
            "Epoch 3 Batch 1100 Loss 3.2823 Accuracy 0.2318\n",
            "Epoch 3 Batch 1150 Loss 3.2809 Accuracy 0.2320\n",
            "Epoch 3 Batch 1200 Loss 3.2794 Accuracy 0.2323\n",
            "Epoch 3 Batch 1250 Loss 3.2786 Accuracy 0.2322\n",
            "Epoch 3 Batch 1300 Loss 3.2782 Accuracy 0.2323\n",
            "Epoch 3 Batch 1350 Loss 3.2774 Accuracy 0.2323\n",
            "Epoch 3 Batch 1400 Loss 3.2767 Accuracy 0.2324\n",
            "Epoch 3 Loss 3.2768 Accuracy 0.2323\n",
            "Time taken for 1 epoch: 1007.0180580615997 secs\n",
            "\n",
            "Epoch 4 Batch 0 Loss 3.3160 Accuracy 0.2510\n",
            "Epoch 4 Batch 50 Loss 3.2202 Accuracy 0.2365\n",
            "Epoch 4 Batch 100 Loss 3.2074 Accuracy 0.2357\n",
            "Epoch 4 Batch 150 Loss 3.1987 Accuracy 0.2365\n",
            "Epoch 4 Batch 200 Loss 3.1918 Accuracy 0.2374\n",
            "Epoch 4 Batch 250 Loss 3.1870 Accuracy 0.2369\n",
            "Epoch 4 Batch 300 Loss 3.1885 Accuracy 0.2370\n",
            "Epoch 4 Batch 350 Loss 3.1893 Accuracy 0.2372\n",
            "Epoch 4 Batch 400 Loss 3.1878 Accuracy 0.2368\n",
            "Epoch 4 Batch 450 Loss 3.1933 Accuracy 0.2368\n",
            "Epoch 4 Batch 500 Loss 3.1940 Accuracy 0.2366\n",
            "Epoch 4 Batch 550 Loss 3.1928 Accuracy 0.2369\n",
            "Epoch 4 Batch 600 Loss 3.1940 Accuracy 0.2369\n",
            "Epoch 4 Batch 650 Loss 3.1907 Accuracy 0.2369\n",
            "Epoch 4 Batch 700 Loss 3.1931 Accuracy 0.2370\n",
            "Epoch 4 Batch 750 Loss 3.1916 Accuracy 0.2369\n",
            "Epoch 4 Batch 800 Loss 3.1900 Accuracy 0.2370\n",
            "Epoch 4 Batch 850 Loss 3.1859 Accuracy 0.2373\n",
            "Epoch 4 Batch 900 Loss 3.1889 Accuracy 0.2373\n",
            "Epoch 4 Batch 950 Loss 3.1891 Accuracy 0.2374\n",
            "Epoch 4 Batch 1000 Loss 3.1897 Accuracy 0.2375\n",
            "Epoch 4 Batch 1050 Loss 3.1894 Accuracy 0.2374\n",
            "Epoch 4 Batch 1100 Loss 3.1872 Accuracy 0.2375\n",
            "Epoch 4 Batch 1150 Loss 3.1870 Accuracy 0.2374\n",
            "Epoch 4 Batch 1200 Loss 3.1869 Accuracy 0.2373\n",
            "Epoch 4 Batch 1250 Loss 3.1859 Accuracy 0.2373\n",
            "Epoch 4 Batch 1300 Loss 3.1847 Accuracy 0.2372\n",
            "Epoch 4 Batch 1350 Loss 3.1854 Accuracy 0.2373\n",
            "Epoch 4 Batch 1400 Loss 3.1836 Accuracy 0.2374\n",
            "Epoch 4 Loss 3.1833 Accuracy 0.2375\n",
            "Time taken for 1 epoch: 1006.5272867679596 secs\n",
            "\n",
            "Epoch 5 Batch 0 Loss 2.6979 Accuracy 0.2230\n",
            "Epoch 5 Batch 50 Loss 3.1114 Accuracy 0.2389\n",
            "Epoch 5 Batch 100 Loss 3.1199 Accuracy 0.2429\n",
            "Epoch 5 Batch 150 Loss 3.1067 Accuracy 0.2437\n",
            "Epoch 5 Batch 200 Loss 3.1142 Accuracy 0.2426\n",
            "Epoch 5 Batch 250 Loss 3.1074 Accuracy 0.2433\n",
            "Epoch 5 Batch 300 Loss 3.1084 Accuracy 0.2428\n",
            "Epoch 5 Batch 350 Loss 3.1046 Accuracy 0.2427\n",
            "Epoch 5 Batch 400 Loss 3.1016 Accuracy 0.2424\n",
            "Epoch 5 Batch 450 Loss 3.1019 Accuracy 0.2424\n",
            "Epoch 5 Batch 500 Loss 3.1027 Accuracy 0.2428\n",
            "Epoch 5 Batch 550 Loss 3.1007 Accuracy 0.2429\n",
            "Epoch 5 Batch 600 Loss 3.0989 Accuracy 0.2431\n",
            "Epoch 5 Batch 650 Loss 3.0974 Accuracy 0.2429\n",
            "Epoch 5 Batch 700 Loss 3.0951 Accuracy 0.2429\n",
            "Epoch 5 Batch 750 Loss 3.0952 Accuracy 0.2427\n",
            "Epoch 5 Batch 800 Loss 3.0938 Accuracy 0.2429\n",
            "Epoch 5 Batch 850 Loss 3.0935 Accuracy 0.2428\n",
            "Epoch 5 Batch 900 Loss 3.0940 Accuracy 0.2428\n",
            "Epoch 5 Batch 950 Loss 3.0934 Accuracy 0.2427\n",
            "Epoch 5 Batch 1000 Loss 3.0930 Accuracy 0.2427\n",
            "Epoch 5 Batch 1050 Loss 3.0919 Accuracy 0.2427\n",
            "Epoch 5 Batch 1100 Loss 3.0917 Accuracy 0.2428\n",
            "Epoch 5 Batch 1150 Loss 3.0932 Accuracy 0.2428\n",
            "Epoch 5 Batch 1200 Loss 3.0945 Accuracy 0.2428\n",
            "Epoch 5 Batch 1250 Loss 3.0942 Accuracy 0.2429\n",
            "Epoch 5 Batch 1300 Loss 3.0943 Accuracy 0.2429\n",
            "Epoch 5 Batch 1350 Loss 3.0933 Accuracy 0.2430\n",
            "Epoch 5 Batch 1400 Loss 3.0925 Accuracy 0.2430\n",
            "Saving checkpoint for epoch 5 at ./checkpoints/train/ckpt-3\n",
            "Epoch 5 Loss 3.0926 Accuracy 0.2430\n",
            "Time taken for 1 epoch: 999.5085306167603 secs\n",
            "\n",
            "Epoch 6 Batch 0 Loss 2.9156 Accuracy 0.2679\n",
            "Epoch 6 Batch 50 Loss 3.0091 Accuracy 0.2462\n",
            "Epoch 6 Batch 100 Loss 2.9975 Accuracy 0.2466\n",
            "Epoch 6 Batch 150 Loss 3.0147 Accuracy 0.2454\n",
            "Epoch 6 Batch 200 Loss 3.0123 Accuracy 0.2469\n",
            "Epoch 6 Batch 250 Loss 3.0145 Accuracy 0.2473\n",
            "Epoch 6 Batch 300 Loss 3.0134 Accuracy 0.2469\n",
            "Epoch 6 Batch 350 Loss 3.0110 Accuracy 0.2468\n",
            "Epoch 6 Batch 400 Loss 3.0103 Accuracy 0.2468\n",
            "Epoch 6 Batch 450 Loss 3.0103 Accuracy 0.2467\n",
            "Epoch 6 Batch 500 Loss 3.0126 Accuracy 0.2469\n",
            "Epoch 6 Batch 550 Loss 3.0164 Accuracy 0.2472\n",
            "Epoch 6 Batch 600 Loss 3.0124 Accuracy 0.2476\n",
            "Epoch 6 Batch 650 Loss 3.0118 Accuracy 0.2477\n",
            "Epoch 6 Batch 700 Loss 3.0108 Accuracy 0.2479\n",
            "Epoch 6 Batch 750 Loss 3.0101 Accuracy 0.2481\n",
            "Epoch 6 Batch 800 Loss 3.0106 Accuracy 0.2482\n",
            "Epoch 6 Batch 850 Loss 3.0109 Accuracy 0.2482\n",
            "Epoch 6 Batch 900 Loss 3.0100 Accuracy 0.2483\n",
            "Epoch 6 Batch 950 Loss 3.0101 Accuracy 0.2481\n",
            "Epoch 6 Batch 1000 Loss 3.0105 Accuracy 0.2482\n",
            "Epoch 6 Batch 1050 Loss 3.0095 Accuracy 0.2483\n",
            "Epoch 6 Batch 1100 Loss 3.0071 Accuracy 0.2484\n",
            "Epoch 6 Batch 1150 Loss 3.0077 Accuracy 0.2483\n",
            "Epoch 6 Batch 1200 Loss 3.0066 Accuracy 0.2484\n",
            "Epoch 6 Batch 1250 Loss 3.0080 Accuracy 0.2482\n",
            "Epoch 6 Batch 1300 Loss 3.0085 Accuracy 0.2481\n",
            "Epoch 6 Batch 1350 Loss 3.0079 Accuracy 0.2482\n",
            "Epoch 6 Batch 1400 Loss 3.0095 Accuracy 0.2481\n",
            "Epoch 6 Loss 3.0091 Accuracy 0.2481\n",
            "Time taken for 1 epoch: 990.8112289905548 secs\n",
            "\n",
            "Epoch 7 Batch 0 Loss 3.1684 Accuracy 0.2311\n",
            "Epoch 7 Batch 50 Loss 2.8906 Accuracy 0.2515\n",
            "Epoch 7 Batch 100 Loss 2.9103 Accuracy 0.2530\n",
            "Epoch 7 Batch 150 Loss 2.9213 Accuracy 0.2515\n",
            "Epoch 7 Batch 200 Loss 2.9262 Accuracy 0.2512\n",
            "Epoch 7 Batch 250 Loss 2.9354 Accuracy 0.2521\n",
            "Epoch 7 Batch 300 Loss 2.9293 Accuracy 0.2528\n",
            "Epoch 7 Batch 350 Loss 2.9319 Accuracy 0.2525\n",
            "Epoch 7 Batch 400 Loss 2.9348 Accuracy 0.2520\n",
            "Epoch 7 Batch 450 Loss 2.9308 Accuracy 0.2520\n",
            "Epoch 7 Batch 500 Loss 2.9282 Accuracy 0.2520\n",
            "Epoch 7 Batch 550 Loss 2.9280 Accuracy 0.2526\n",
            "Epoch 7 Batch 600 Loss 2.9286 Accuracy 0.2524\n",
            "Epoch 7 Batch 650 Loss 2.9268 Accuracy 0.2525\n",
            "Epoch 7 Batch 700 Loss 2.9280 Accuracy 0.2521\n",
            "Epoch 7 Batch 750 Loss 2.9283 Accuracy 0.2519\n",
            "Epoch 7 Batch 800 Loss 2.9309 Accuracy 0.2521\n",
            "Epoch 7 Batch 850 Loss 2.9293 Accuracy 0.2525\n",
            "Epoch 7 Batch 900 Loss 2.9276 Accuracy 0.2526\n",
            "Epoch 7 Batch 950 Loss 2.9252 Accuracy 0.2527\n",
            "Epoch 7 Batch 1000 Loss 2.9267 Accuracy 0.2526\n",
            "Epoch 7 Batch 1050 Loss 2.9267 Accuracy 0.2528\n",
            "Epoch 7 Batch 1100 Loss 2.9267 Accuracy 0.2526\n",
            "Epoch 7 Batch 1150 Loss 2.9255 Accuracy 0.2528\n",
            "Epoch 7 Batch 1200 Loss 2.9243 Accuracy 0.2528\n",
            "Epoch 7 Batch 1250 Loss 2.9251 Accuracy 0.2526\n",
            "Epoch 7 Batch 1300 Loss 2.9264 Accuracy 0.2527\n",
            "Epoch 7 Batch 1350 Loss 2.9261 Accuracy 0.2526\n",
            "Epoch 7 Batch 1400 Loss 2.9266 Accuracy 0.2528\n",
            "Epoch 7 Loss 2.9267 Accuracy 0.2528\n",
            "Time taken for 1 epoch: 987.2943999767303 secs\n",
            "\n",
            "Epoch 8 Batch 0 Loss 3.0766 Accuracy 0.2524\n",
            "Epoch 8 Batch 50 Loss 2.8560 Accuracy 0.2575\n",
            "Epoch 8 Batch 100 Loss 2.8456 Accuracy 0.2568\n",
            "Epoch 8 Batch 150 Loss 2.8480 Accuracy 0.2571\n",
            "Epoch 8 Batch 200 Loss 2.8470 Accuracy 0.2581\n",
            "Epoch 8 Batch 250 Loss 2.8462 Accuracy 0.2576\n",
            "Epoch 8 Batch 300 Loss 2.8504 Accuracy 0.2569\n",
            "Epoch 8 Batch 350 Loss 2.8607 Accuracy 0.2558\n",
            "Epoch 8 Batch 400 Loss 2.8628 Accuracy 0.2562\n",
            "Epoch 8 Batch 450 Loss 2.8603 Accuracy 0.2564\n",
            "Epoch 8 Batch 500 Loss 2.8619 Accuracy 0.2561\n",
            "Epoch 8 Batch 550 Loss 2.8598 Accuracy 0.2563\n",
            "Epoch 8 Batch 600 Loss 2.8595 Accuracy 0.2561\n",
            "Epoch 8 Batch 650 Loss 2.8546 Accuracy 0.2564\n",
            "Epoch 8 Batch 700 Loss 2.8541 Accuracy 0.2565\n",
            "Epoch 8 Batch 750 Loss 2.8534 Accuracy 0.2564\n",
            "Epoch 8 Batch 800 Loss 2.8515 Accuracy 0.2564\n",
            "Epoch 8 Batch 850 Loss 2.8490 Accuracy 0.2567\n",
            "Epoch 8 Batch 900 Loss 2.8499 Accuracy 0.2566\n",
            "Epoch 8 Batch 950 Loss 2.8493 Accuracy 0.2567\n",
            "Epoch 8 Batch 1000 Loss 2.8472 Accuracy 0.2564\n",
            "Epoch 8 Batch 1050 Loss 2.8481 Accuracy 0.2564\n",
            "Epoch 8 Batch 1100 Loss 2.8493 Accuracy 0.2564\n",
            "Epoch 8 Batch 1150 Loss 2.8511 Accuracy 0.2564\n",
            "Epoch 8 Batch 1200 Loss 2.8490 Accuracy 0.2566\n",
            "Epoch 8 Batch 1250 Loss 2.8494 Accuracy 0.2566\n",
            "Epoch 8 Batch 1300 Loss 2.8489 Accuracy 0.2568\n",
            "Epoch 8 Batch 1350 Loss 2.8500 Accuracy 0.2570\n",
            "Epoch 8 Batch 1400 Loss 2.8512 Accuracy 0.2568\n",
            "Epoch 8 Loss 2.8510 Accuracy 0.2569\n",
            "Time taken for 1 epoch: 992.5271427631378 secs\n",
            "\n",
            "Epoch 9 Batch 0 Loss 2.9440 Accuracy 0.2378\n",
            "Epoch 9 Batch 50 Loss 2.7626 Accuracy 0.2588\n",
            "Epoch 9 Batch 100 Loss 2.7649 Accuracy 0.2580\n",
            "Epoch 9 Batch 150 Loss 2.7735 Accuracy 0.2616\n",
            "Epoch 9 Batch 200 Loss 2.7705 Accuracy 0.2623\n",
            "Epoch 9 Batch 250 Loss 2.7760 Accuracy 0.2615\n",
            "Epoch 9 Batch 300 Loss 2.7755 Accuracy 0.2615\n",
            "Epoch 9 Batch 350 Loss 2.7790 Accuracy 0.2609\n",
            "Epoch 9 Batch 400 Loss 2.7802 Accuracy 0.2605\n",
            "Epoch 9 Batch 450 Loss 2.7803 Accuracy 0.2606\n",
            "Epoch 9 Batch 500 Loss 2.7806 Accuracy 0.2603\n",
            "Epoch 9 Batch 550 Loss 2.7818 Accuracy 0.2609\n",
            "Epoch 9 Batch 600 Loss 2.7775 Accuracy 0.2612\n",
            "Epoch 9 Batch 650 Loss 2.7778 Accuracy 0.2610\n",
            "Epoch 9 Batch 700 Loss 2.7773 Accuracy 0.2611\n",
            "Epoch 9 Batch 750 Loss 2.7746 Accuracy 0.2611\n",
            "Epoch 9 Batch 800 Loss 2.7767 Accuracy 0.2610\n",
            "Epoch 9 Batch 850 Loss 2.7772 Accuracy 0.2609\n",
            "Epoch 9 Batch 900 Loss 2.7762 Accuracy 0.2611\n",
            "Epoch 9 Batch 950 Loss 2.7771 Accuracy 0.2609\n",
            "Epoch 9 Batch 1000 Loss 2.7758 Accuracy 0.2610\n",
            "Epoch 9 Batch 1050 Loss 2.7756 Accuracy 0.2609\n",
            "Epoch 9 Batch 1100 Loss 2.7753 Accuracy 0.2611\n",
            "Epoch 9 Batch 1150 Loss 2.7765 Accuracy 0.2608\n",
            "Epoch 9 Batch 1200 Loss 2.7772 Accuracy 0.2610\n",
            "Epoch 9 Batch 1250 Loss 2.7769 Accuracy 0.2609\n",
            "Epoch 9 Batch 1300 Loss 2.7778 Accuracy 0.2609\n",
            "Epoch 9 Batch 1350 Loss 2.7788 Accuracy 0.2611\n",
            "Epoch 9 Batch 1400 Loss 2.7797 Accuracy 0.2610\n",
            "Epoch 9 Loss 2.7798 Accuracy 0.2611\n",
            "Time taken for 1 epoch: 987.9047114849091 secs\n",
            "\n",
            "Epoch 10 Batch 0 Loss 2.4507 Accuracy 0.2875\n",
            "Epoch 10 Batch 50 Loss 2.6841 Accuracy 0.2724\n",
            "Epoch 10 Batch 100 Loss 2.7153 Accuracy 0.2657\n",
            "Epoch 10 Batch 150 Loss 2.7162 Accuracy 0.2661\n",
            "Epoch 10 Batch 200 Loss 2.7210 Accuracy 0.2655\n",
            "Epoch 10 Batch 250 Loss 2.7241 Accuracy 0.2659\n",
            "Epoch 10 Batch 300 Loss 2.7197 Accuracy 0.2656\n",
            "Epoch 10 Batch 350 Loss 2.7158 Accuracy 0.2658\n",
            "Epoch 10 Batch 400 Loss 2.7168 Accuracy 0.2659\n",
            "Epoch 10 Batch 450 Loss 2.7177 Accuracy 0.2652\n",
            "Epoch 10 Batch 500 Loss 2.7196 Accuracy 0.2649\n",
            "Epoch 10 Batch 550 Loss 2.7165 Accuracy 0.2649\n",
            "Epoch 10 Batch 600 Loss 2.7194 Accuracy 0.2646\n",
            "Epoch 10 Batch 650 Loss 2.7206 Accuracy 0.2649\n",
            "Epoch 10 Batch 700 Loss 2.7205 Accuracy 0.2645\n",
            "Epoch 10 Batch 750 Loss 2.7214 Accuracy 0.2651\n",
            "Epoch 10 Batch 800 Loss 2.7199 Accuracy 0.2648\n",
            "Epoch 10 Batch 850 Loss 2.7201 Accuracy 0.2647\n",
            "Epoch 10 Batch 900 Loss 2.7169 Accuracy 0.2650\n",
            "Epoch 10 Batch 950 Loss 2.7154 Accuracy 0.2651\n",
            "Epoch 10 Batch 1000 Loss 2.7122 Accuracy 0.2650\n",
            "Epoch 10 Batch 1050 Loss 2.7143 Accuracy 0.2652\n",
            "Epoch 10 Batch 1100 Loss 2.7139 Accuracy 0.2652\n",
            "Epoch 10 Batch 1150 Loss 2.7138 Accuracy 0.2652\n",
            "Epoch 10 Batch 1200 Loss 2.7145 Accuracy 0.2652\n",
            "Epoch 10 Batch 1250 Loss 2.7131 Accuracy 0.2653\n",
            "Epoch 10 Batch 1300 Loss 2.7121 Accuracy 0.2655\n",
            "Epoch 10 Batch 1350 Loss 2.7121 Accuracy 0.2656\n",
            "Epoch 10 Batch 1400 Loss 2.7124 Accuracy 0.2655\n",
            "Saving checkpoint for epoch 10 at ./checkpoints/train/ckpt-4\n",
            "Epoch 10 Loss 2.7123 Accuracy 0.2655\n",
            "Time taken for 1 epoch: 984.9644286632538 secs\n",
            "\n",
            "Epoch 11 Batch 0 Loss 2.3798 Accuracy 0.2525\n",
            "Epoch 11 Batch 50 Loss 2.6311 Accuracy 0.2624\n",
            "Epoch 11 Batch 100 Loss 2.6306 Accuracy 0.2663\n",
            "Epoch 11 Batch 150 Loss 2.6276 Accuracy 0.2690\n",
            "Epoch 11 Batch 200 Loss 2.6276 Accuracy 0.2698\n",
            "Epoch 11 Batch 250 Loss 2.6326 Accuracy 0.2699\n",
            "Epoch 11 Batch 300 Loss 2.6364 Accuracy 0.2700\n",
            "Epoch 11 Batch 350 Loss 2.6345 Accuracy 0.2695\n",
            "Epoch 11 Batch 400 Loss 2.6353 Accuracy 0.2691\n",
            "Epoch 11 Batch 450 Loss 2.6349 Accuracy 0.2689\n",
            "Epoch 11 Batch 500 Loss 2.6366 Accuracy 0.2688\n",
            "Epoch 11 Batch 550 Loss 2.6440 Accuracy 0.2683\n",
            "Epoch 11 Batch 600 Loss 2.6473 Accuracy 0.2680\n",
            "Epoch 11 Batch 650 Loss 2.6455 Accuracy 0.2685\n",
            "Epoch 11 Batch 700 Loss 2.6448 Accuracy 0.2685\n",
            "Epoch 11 Batch 750 Loss 2.6444 Accuracy 0.2685\n",
            "Epoch 11 Batch 800 Loss 2.6433 Accuracy 0.2684\n",
            "Epoch 11 Batch 850 Loss 2.6451 Accuracy 0.2680\n",
            "Epoch 11 Batch 900 Loss 2.6456 Accuracy 0.2684\n",
            "Epoch 11 Batch 950 Loss 2.6447 Accuracy 0.2685\n",
            "Epoch 11 Batch 1000 Loss 2.6450 Accuracy 0.2685\n",
            "Epoch 11 Batch 1050 Loss 2.6448 Accuracy 0.2685\n",
            "Epoch 11 Batch 1100 Loss 2.6434 Accuracy 0.2686\n",
            "Epoch 11 Batch 1150 Loss 2.6439 Accuracy 0.2686\n",
            "Epoch 11 Batch 1200 Loss 2.6442 Accuracy 0.2685\n",
            "Epoch 11 Batch 1250 Loss 2.6452 Accuracy 0.2684\n",
            "Epoch 11 Batch 1300 Loss 2.6445 Accuracy 0.2685\n",
            "Epoch 11 Batch 1350 Loss 2.6451 Accuracy 0.2684\n",
            "Epoch 11 Batch 1400 Loss 2.6463 Accuracy 0.2682\n",
            "Epoch 11 Loss 2.6466 Accuracy 0.2683\n",
            "Time taken for 1 epoch: 983.4395134449005 secs\n",
            "\n",
            "Epoch 12 Batch 0 Loss 2.6733 Accuracy 0.2548\n",
            "Epoch 12 Batch 50 Loss 2.5822 Accuracy 0.2664\n",
            "Epoch 12 Batch 100 Loss 2.5844 Accuracy 0.2705\n",
            "Epoch 12 Batch 150 Loss 2.5740 Accuracy 0.2731\n",
            "Epoch 12 Batch 200 Loss 2.5811 Accuracy 0.2733\n",
            "Epoch 12 Batch 250 Loss 2.5843 Accuracy 0.2729\n",
            "Epoch 12 Batch 300 Loss 2.5752 Accuracy 0.2743\n",
            "Epoch 12 Batch 350 Loss 2.5767 Accuracy 0.2739\n",
            "Epoch 12 Batch 400 Loss 2.5789 Accuracy 0.2732\n",
            "Epoch 12 Batch 450 Loss 2.5758 Accuracy 0.2734\n",
            "Epoch 12 Batch 500 Loss 2.5760 Accuracy 0.2732\n",
            "Epoch 12 Batch 550 Loss 2.5765 Accuracy 0.2732\n",
            "Epoch 12 Batch 600 Loss 2.5756 Accuracy 0.2736\n",
            "Epoch 12 Batch 650 Loss 2.5761 Accuracy 0.2735\n",
            "Epoch 12 Batch 700 Loss 2.5766 Accuracy 0.2732\n",
            "Epoch 12 Batch 750 Loss 2.5772 Accuracy 0.2733\n",
            "Epoch 12 Batch 800 Loss 2.5777 Accuracy 0.2729\n",
            "Epoch 12 Batch 850 Loss 2.5785 Accuracy 0.2731\n",
            "Epoch 12 Batch 900 Loss 2.5779 Accuracy 0.2727\n",
            "Epoch 12 Batch 950 Loss 2.5790 Accuracy 0.2727\n",
            "Epoch 12 Batch 1000 Loss 2.5789 Accuracy 0.2725\n",
            "Epoch 12 Batch 1050 Loss 2.5799 Accuracy 0.2724\n",
            "Epoch 12 Batch 1100 Loss 2.5827 Accuracy 0.2723\n",
            "Epoch 12 Batch 1150 Loss 2.5831 Accuracy 0.2724\n",
            "Epoch 12 Batch 1200 Loss 2.5826 Accuracy 0.2725\n",
            "Epoch 12 Batch 1250 Loss 2.5843 Accuracy 0.2725\n",
            "Epoch 12 Batch 1300 Loss 2.5841 Accuracy 0.2723\n",
            "Epoch 12 Batch 1350 Loss 2.5853 Accuracy 0.2721\n",
            "Epoch 12 Batch 1400 Loss 2.5845 Accuracy 0.2722\n",
            "Epoch 12 Loss 2.5846 Accuracy 0.2722\n",
            "Time taken for 1 epoch: 988.9401478767395 secs\n",
            "\n",
            "Epoch 13 Batch 0 Loss 2.7135 Accuracy 0.2604\n",
            "Epoch 13 Batch 50 Loss 2.4956 Accuracy 0.2718\n",
            "Epoch 13 Batch 100 Loss 2.5224 Accuracy 0.2740\n",
            "Epoch 13 Batch 150 Loss 2.5117 Accuracy 0.2753\n",
            "Epoch 13 Batch 200 Loss 2.5169 Accuracy 0.2748\n",
            "Epoch 13 Batch 250 Loss 2.5124 Accuracy 0.2743\n",
            "Epoch 13 Batch 300 Loss 2.5146 Accuracy 0.2749\n",
            "Epoch 13 Batch 350 Loss 2.5192 Accuracy 0.2758\n",
            "Epoch 13 Batch 400 Loss 2.5165 Accuracy 0.2758\n",
            "Epoch 13 Batch 450 Loss 2.5146 Accuracy 0.2762\n",
            "Epoch 13 Batch 500 Loss 2.5158 Accuracy 0.2761\n",
            "Epoch 13 Batch 550 Loss 2.5151 Accuracy 0.2762\n",
            "Epoch 13 Batch 600 Loss 2.5154 Accuracy 0.2765\n",
            "Epoch 13 Batch 650 Loss 2.5167 Accuracy 0.2769\n",
            "Epoch 13 Batch 700 Loss 2.5155 Accuracy 0.2770\n",
            "Epoch 13 Batch 750 Loss 2.5160 Accuracy 0.2767\n",
            "Epoch 13 Batch 800 Loss 2.5186 Accuracy 0.2763\n",
            "Epoch 13 Batch 850 Loss 2.5189 Accuracy 0.2763\n",
            "Epoch 13 Batch 900 Loss 2.5195 Accuracy 0.2764\n",
            "Epoch 13 Batch 950 Loss 2.5194 Accuracy 0.2763\n",
            "Epoch 13 Batch 1000 Loss 2.5214 Accuracy 0.2764\n",
            "Epoch 13 Batch 1050 Loss 2.5210 Accuracy 0.2765\n",
            "Epoch 13 Batch 1100 Loss 2.5221 Accuracy 0.2761\n",
            "Epoch 13 Batch 1150 Loss 2.5223 Accuracy 0.2763\n",
            "Epoch 13 Batch 1200 Loss 2.5227 Accuracy 0.2762\n",
            "Epoch 13 Batch 1250 Loss 2.5232 Accuracy 0.2760\n",
            "Epoch 13 Batch 1300 Loss 2.5243 Accuracy 0.2761\n",
            "Epoch 13 Batch 1350 Loss 2.5250 Accuracy 0.2759\n",
            "Epoch 13 Batch 1400 Loss 2.5269 Accuracy 0.2760\n",
            "Epoch 13 Loss 2.5267 Accuracy 0.2760\n",
            "Time taken for 1 epoch: 985.6766452789307 secs\n",
            "\n",
            "Epoch 14 Batch 0 Loss 2.0807 Accuracy 0.2902\n",
            "Epoch 14 Batch 50 Loss 2.4402 Accuracy 0.2752\n",
            "Epoch 14 Batch 100 Loss 2.4321 Accuracy 0.2741\n",
            "Epoch 14 Batch 150 Loss 2.4400 Accuracy 0.2773\n",
            "Epoch 14 Batch 200 Loss 2.4448 Accuracy 0.2779\n",
            "Epoch 14 Batch 250 Loss 2.4486 Accuracy 0.2772\n",
            "Epoch 14 Batch 300 Loss 2.4456 Accuracy 0.2777\n",
            "Epoch 14 Batch 350 Loss 2.4518 Accuracy 0.2783\n",
            "Epoch 14 Batch 400 Loss 2.4553 Accuracy 0.2781\n",
            "Epoch 14 Batch 450 Loss 2.4621 Accuracy 0.2779\n",
            "Epoch 14 Batch 500 Loss 2.4612 Accuracy 0.2780\n",
            "Epoch 14 Batch 550 Loss 2.4618 Accuracy 0.2787\n",
            "Epoch 14 Batch 600 Loss 2.4617 Accuracy 0.2791\n",
            "Epoch 14 Batch 650 Loss 2.4630 Accuracy 0.2789\n",
            "Epoch 14 Batch 700 Loss 2.4636 Accuracy 0.2786\n",
            "Epoch 14 Batch 750 Loss 2.4629 Accuracy 0.2793\n",
            "Epoch 14 Batch 800 Loss 2.4650 Accuracy 0.2789\n",
            "Epoch 14 Batch 850 Loss 2.4653 Accuracy 0.2791\n",
            "Epoch 14 Batch 900 Loss 2.4636 Accuracy 0.2792\n",
            "Epoch 14 Batch 950 Loss 2.4677 Accuracy 0.2793\n",
            "Epoch 14 Batch 1000 Loss 2.4673 Accuracy 0.2794\n",
            "Epoch 14 Batch 1050 Loss 2.4664 Accuracy 0.2792\n",
            "Epoch 14 Batch 1100 Loss 2.4663 Accuracy 0.2791\n",
            "Epoch 14 Batch 1150 Loss 2.4666 Accuracy 0.2792\n",
            "Epoch 14 Batch 1200 Loss 2.4677 Accuracy 0.2793\n",
            "Epoch 14 Batch 1250 Loss 2.4685 Accuracy 0.2795\n",
            "Epoch 14 Batch 1300 Loss 2.4683 Accuracy 0.2797\n",
            "Epoch 14 Batch 1350 Loss 2.4687 Accuracy 0.2797\n",
            "Epoch 14 Batch 1400 Loss 2.4706 Accuracy 0.2796\n",
            "Epoch 14 Loss 2.4704 Accuracy 0.2796\n",
            "Time taken for 1 epoch: 981.349541425705 secs\n",
            "\n",
            "Epoch 15 Batch 0 Loss 2.6086 Accuracy 0.2822\n",
            "Epoch 15 Batch 50 Loss 2.3881 Accuracy 0.2804\n",
            "Epoch 15 Batch 100 Loss 2.3979 Accuracy 0.2820\n",
            "Epoch 15 Batch 150 Loss 2.3894 Accuracy 0.2817\n",
            "Epoch 15 Batch 200 Loss 2.3959 Accuracy 0.2813\n",
            "Epoch 15 Batch 250 Loss 2.4042 Accuracy 0.2813\n",
            "Epoch 15 Batch 300 Loss 2.4043 Accuracy 0.2809\n",
            "Epoch 15 Batch 350 Loss 2.4021 Accuracy 0.2805\n",
            "Epoch 15 Batch 400 Loss 2.4051 Accuracy 0.2810\n",
            "Epoch 15 Batch 450 Loss 2.4097 Accuracy 0.2816\n",
            "Epoch 15 Batch 500 Loss 2.4114 Accuracy 0.2820\n",
            "Epoch 15 Batch 550 Loss 2.4118 Accuracy 0.2818\n",
            "Epoch 15 Batch 600 Loss 2.4132 Accuracy 0.2822\n",
            "Epoch 15 Batch 650 Loss 2.4127 Accuracy 0.2824\n",
            "Epoch 15 Batch 700 Loss 2.4116 Accuracy 0.2824\n",
            "Epoch 15 Batch 750 Loss 2.4101 Accuracy 0.2824\n",
            "Epoch 15 Batch 800 Loss 2.4107 Accuracy 0.2828\n",
            "Epoch 15 Batch 850 Loss 2.4120 Accuracy 0.2829\n",
            "Epoch 15 Batch 900 Loss 2.4139 Accuracy 0.2830\n",
            "Epoch 15 Batch 950 Loss 2.4165 Accuracy 0.2831\n",
            "Epoch 15 Batch 1000 Loss 2.4142 Accuracy 0.2833\n",
            "Epoch 15 Batch 1050 Loss 2.4139 Accuracy 0.2831\n",
            "Epoch 15 Batch 1100 Loss 2.4130 Accuracy 0.2835\n",
            "Epoch 15 Batch 1150 Loss 2.4141 Accuracy 0.2835\n",
            "Epoch 15 Batch 1200 Loss 2.4148 Accuracy 0.2832\n",
            "Epoch 15 Batch 1250 Loss 2.4160 Accuracy 0.2832\n",
            "Epoch 15 Batch 1300 Loss 2.4171 Accuracy 0.2831\n",
            "Epoch 15 Batch 1350 Loss 2.4181 Accuracy 0.2829\n",
            "Epoch 15 Batch 1400 Loss 2.4199 Accuracy 0.2827\n",
            "Saving checkpoint for epoch 15 at ./checkpoints/train/ckpt-5\n",
            "Epoch 15 Loss 2.4199 Accuracy 0.2827\n",
            "Time taken for 1 epoch: 982.8303458690643 secs\n",
            "\n",
            "Epoch 16 Batch 0 Loss 2.5205 Accuracy 0.2737\n",
            "Epoch 16 Batch 50 Loss 2.3612 Accuracy 0.2834\n",
            "Epoch 16 Batch 100 Loss 2.3613 Accuracy 0.2831\n",
            "Epoch 16 Batch 150 Loss 2.3437 Accuracy 0.2845\n",
            "Epoch 16 Batch 200 Loss 2.3464 Accuracy 0.2852\n",
            "Epoch 16 Batch 250 Loss 2.3524 Accuracy 0.2848\n",
            "Epoch 16 Batch 300 Loss 2.3572 Accuracy 0.2836\n",
            "Epoch 16 Batch 350 Loss 2.3524 Accuracy 0.2845\n",
            "Epoch 16 Batch 400 Loss 2.3538 Accuracy 0.2848\n",
            "Epoch 16 Batch 450 Loss 2.3556 Accuracy 0.2851\n",
            "Epoch 16 Batch 500 Loss 2.3577 Accuracy 0.2854\n",
            "Epoch 16 Batch 550 Loss 2.3575 Accuracy 0.2848\n",
            "Epoch 16 Batch 600 Loss 2.3586 Accuracy 0.2849\n",
            "Epoch 16 Batch 650 Loss 2.3591 Accuracy 0.2855\n",
            "Epoch 16 Batch 700 Loss 2.3585 Accuracy 0.2856\n",
            "Epoch 16 Batch 750 Loss 2.3582 Accuracy 0.2855\n",
            "Epoch 16 Batch 800 Loss 2.3596 Accuracy 0.2857\n",
            "Epoch 16 Batch 850 Loss 2.3607 Accuracy 0.2856\n",
            "Epoch 16 Batch 900 Loss 2.3598 Accuracy 0.2858\n",
            "Epoch 16 Batch 950 Loss 2.3606 Accuracy 0.2858\n",
            "Epoch 16 Batch 1000 Loss 2.3596 Accuracy 0.2858\n",
            "Epoch 16 Batch 1050 Loss 2.3601 Accuracy 0.2856\n",
            "Epoch 16 Batch 1100 Loss 2.3627 Accuracy 0.2856\n",
            "Epoch 16 Batch 1150 Loss 2.3643 Accuracy 0.2854\n",
            "Epoch 16 Batch 1200 Loss 2.3657 Accuracy 0.2852\n",
            "Epoch 16 Batch 1250 Loss 2.3671 Accuracy 0.2854\n",
            "Epoch 16 Batch 1300 Loss 2.3674 Accuracy 0.2855\n",
            "Epoch 16 Batch 1350 Loss 2.3671 Accuracy 0.2858\n",
            "Epoch 16 Batch 1400 Loss 2.3677 Accuracy 0.2859\n",
            "Epoch 16 Loss 2.3675 Accuracy 0.2859\n",
            "Time taken for 1 epoch: 989.3410587310791 secs\n",
            "\n",
            "Epoch 17 Batch 0 Loss 2.4392 Accuracy 0.2652\n",
            "Epoch 17 Batch 50 Loss 2.2788 Accuracy 0.2884\n",
            "Epoch 17 Batch 100 Loss 2.2860 Accuracy 0.2907\n",
            "Epoch 17 Batch 150 Loss 2.2967 Accuracy 0.2882\n",
            "Epoch 17 Batch 200 Loss 2.3044 Accuracy 0.2884\n",
            "Epoch 17 Batch 250 Loss 2.3077 Accuracy 0.2871\n",
            "Epoch 17 Batch 300 Loss 2.3145 Accuracy 0.2880\n",
            "Epoch 17 Batch 350 Loss 2.3065 Accuracy 0.2876\n",
            "Epoch 17 Batch 400 Loss 2.3068 Accuracy 0.2866\n",
            "Epoch 17 Batch 450 Loss 2.3063 Accuracy 0.2873\n",
            "Epoch 17 Batch 500 Loss 2.3072 Accuracy 0.2877\n",
            "Epoch 17 Batch 550 Loss 2.3079 Accuracy 0.2880\n",
            "Epoch 17 Batch 600 Loss 2.3109 Accuracy 0.2884\n",
            "Epoch 17 Batch 650 Loss 2.3122 Accuracy 0.2885\n",
            "Epoch 17 Batch 700 Loss 2.3131 Accuracy 0.2885\n",
            "Epoch 17 Batch 750 Loss 2.3150 Accuracy 0.2888\n",
            "Epoch 17 Batch 800 Loss 2.3142 Accuracy 0.2887\n",
            "Epoch 17 Batch 850 Loss 2.3135 Accuracy 0.2885\n",
            "Epoch 17 Batch 900 Loss 2.3141 Accuracy 0.2890\n",
            "Epoch 17 Batch 950 Loss 2.3140 Accuracy 0.2891\n",
            "Epoch 17 Batch 1000 Loss 2.3148 Accuracy 0.2889\n",
            "Epoch 17 Batch 1050 Loss 2.3160 Accuracy 0.2887\n",
            "Epoch 17 Batch 1100 Loss 2.3156 Accuracy 0.2886\n",
            "Epoch 17 Batch 1150 Loss 2.3153 Accuracy 0.2887\n",
            "Epoch 17 Batch 1200 Loss 2.3156 Accuracy 0.2887\n",
            "Epoch 17 Batch 1250 Loss 2.3167 Accuracy 0.2885\n",
            "Epoch 17 Batch 1300 Loss 2.3160 Accuracy 0.2887\n",
            "Epoch 17 Batch 1350 Loss 2.3176 Accuracy 0.2886\n",
            "Epoch 17 Batch 1400 Loss 2.3178 Accuracy 0.2887\n",
            "Epoch 17 Loss 2.3178 Accuracy 0.2888\n",
            "Time taken for 1 epoch: 991.5647130012512 secs\n",
            "\n",
            "Epoch 18 Batch 0 Loss 2.0491 Accuracy 0.2676\n",
            "Epoch 18 Batch 50 Loss 2.2425 Accuracy 0.2910\n",
            "Epoch 18 Batch 100 Loss 2.2501 Accuracy 0.2861\n",
            "Epoch 18 Batch 150 Loss 2.2491 Accuracy 0.2883\n",
            "Epoch 18 Batch 200 Loss 2.2467 Accuracy 0.2887\n",
            "Epoch 18 Batch 250 Loss 2.2517 Accuracy 0.2887\n",
            "Epoch 18 Batch 300 Loss 2.2560 Accuracy 0.2892\n",
            "Epoch 18 Batch 350 Loss 2.2626 Accuracy 0.2894\n",
            "Epoch 18 Batch 400 Loss 2.2662 Accuracy 0.2897\n",
            "Epoch 18 Batch 450 Loss 2.2670 Accuracy 0.2897\n",
            "Epoch 18 Batch 500 Loss 2.2611 Accuracy 0.2904\n",
            "Epoch 18 Batch 550 Loss 2.2611 Accuracy 0.2908\n",
            "Epoch 18 Batch 600 Loss 2.2627 Accuracy 0.2907\n",
            "Epoch 18 Batch 650 Loss 2.2635 Accuracy 0.2910\n",
            "Epoch 18 Batch 700 Loss 2.2633 Accuracy 0.2909\n",
            "Epoch 18 Batch 750 Loss 2.2641 Accuracy 0.2910\n",
            "Epoch 18 Batch 800 Loss 2.2652 Accuracy 0.2913\n",
            "Epoch 18 Batch 850 Loss 2.2660 Accuracy 0.2911\n",
            "Epoch 18 Batch 900 Loss 2.2678 Accuracy 0.2909\n",
            "Epoch 18 Batch 950 Loss 2.2668 Accuracy 0.2909\n",
            "Epoch 18 Batch 1000 Loss 2.2677 Accuracy 0.2910\n",
            "Epoch 18 Batch 1050 Loss 2.2693 Accuracy 0.2909\n",
            "Epoch 18 Batch 1100 Loss 2.2693 Accuracy 0.2907\n",
            "Epoch 18 Batch 1150 Loss 2.2692 Accuracy 0.2908\n",
            "Epoch 18 Batch 1200 Loss 2.2697 Accuracy 0.2909\n",
            "Epoch 18 Batch 1250 Loss 2.2705 Accuracy 0.2910\n",
            "Epoch 18 Batch 1300 Loss 2.2707 Accuracy 0.2914\n",
            "Epoch 18 Batch 1350 Loss 2.2701 Accuracy 0.2915\n",
            "Epoch 18 Batch 1400 Loss 2.2708 Accuracy 0.2913\n",
            "Epoch 18 Loss 2.2711 Accuracy 0.2913\n",
            "Time taken for 1 epoch: 987.0150997638702 secs\n",
            "\n",
            "Epoch 19 Batch 0 Loss 2.5461 Accuracy 0.2630\n",
            "Epoch 19 Batch 50 Loss 2.2157 Accuracy 0.2897\n",
            "Epoch 19 Batch 100 Loss 2.2307 Accuracy 0.2924\n",
            "Epoch 19 Batch 150 Loss 2.2148 Accuracy 0.2914\n",
            "Epoch 19 Batch 200 Loss 2.2250 Accuracy 0.2916\n",
            "Epoch 19 Batch 250 Loss 2.2216 Accuracy 0.2917\n",
            "Epoch 19 Batch 300 Loss 2.2164 Accuracy 0.2928\n",
            "Epoch 19 Batch 350 Loss 2.2187 Accuracy 0.2923\n",
            "Epoch 19 Batch 400 Loss 2.2196 Accuracy 0.2924\n",
            "Epoch 19 Batch 450 Loss 2.2199 Accuracy 0.2925\n",
            "Epoch 19 Batch 500 Loss 2.2159 Accuracy 0.2929\n",
            "Epoch 19 Batch 550 Loss 2.2170 Accuracy 0.2931\n",
            "Epoch 19 Batch 600 Loss 2.2191 Accuracy 0.2931\n",
            "Epoch 19 Batch 650 Loss 2.2165 Accuracy 0.2933\n",
            "Epoch 19 Batch 700 Loss 2.2190 Accuracy 0.2930\n",
            "Epoch 19 Batch 750 Loss 2.2179 Accuracy 0.2928\n",
            "Epoch 19 Batch 800 Loss 2.2196 Accuracy 0.2928\n",
            "Epoch 19 Batch 850 Loss 2.2212 Accuracy 0.2932\n",
            "Epoch 19 Batch 900 Loss 2.2222 Accuracy 0.2933\n",
            "Epoch 19 Batch 950 Loss 2.2237 Accuracy 0.2934\n",
            "Epoch 19 Batch 1000 Loss 2.2233 Accuracy 0.2935\n",
            "Epoch 19 Batch 1050 Loss 2.2230 Accuracy 0.2937\n",
            "Epoch 19 Batch 1100 Loss 2.2230 Accuracy 0.2939\n",
            "Epoch 19 Batch 1150 Loss 2.2233 Accuracy 0.2943\n",
            "Epoch 19 Batch 1200 Loss 2.2245 Accuracy 0.2940\n",
            "Epoch 19 Batch 1250 Loss 2.2245 Accuracy 0.2943\n",
            "Epoch 19 Batch 1300 Loss 2.2258 Accuracy 0.2940\n",
            "Epoch 19 Batch 1350 Loss 2.2282 Accuracy 0.2941\n",
            "Epoch 19 Batch 1400 Loss 2.2277 Accuracy 0.2941\n",
            "Epoch 19 Loss 2.2275 Accuracy 0.2941\n",
            "Time taken for 1 epoch: 984.813399553299 secs\n",
            "\n",
            "Epoch 20 Batch 0 Loss 2.1882 Accuracy 0.3236\n",
            "Epoch 20 Batch 50 Loss 2.1400 Accuracy 0.3042\n",
            "Epoch 20 Batch 100 Loss 2.1371 Accuracy 0.2988\n",
            "Epoch 20 Batch 150 Loss 2.1532 Accuracy 0.3006\n",
            "Epoch 20 Batch 200 Loss 2.1481 Accuracy 0.3000\n",
            "Epoch 20 Batch 250 Loss 2.1523 Accuracy 0.2986\n",
            "Epoch 20 Batch 300 Loss 2.1562 Accuracy 0.2984\n",
            "Epoch 20 Batch 350 Loss 2.1619 Accuracy 0.2979\n",
            "Epoch 20 Batch 400 Loss 2.1622 Accuracy 0.2987\n",
            "Epoch 20 Batch 450 Loss 2.1708 Accuracy 0.2973\n",
            "Epoch 20 Batch 500 Loss 2.1703 Accuracy 0.2973\n",
            "Epoch 20 Batch 550 Loss 2.1721 Accuracy 0.2976\n",
            "Epoch 20 Batch 600 Loss 2.1736 Accuracy 0.2972\n",
            "Epoch 20 Batch 650 Loss 2.1751 Accuracy 0.2970\n",
            "Epoch 20 Batch 700 Loss 2.1745 Accuracy 0.2978\n",
            "Epoch 20 Batch 750 Loss 2.1743 Accuracy 0.2978\n",
            "Epoch 20 Batch 800 Loss 2.1749 Accuracy 0.2976\n",
            "Epoch 20 Batch 850 Loss 2.1750 Accuracy 0.2973\n",
            "Epoch 20 Batch 900 Loss 2.1777 Accuracy 0.2971\n",
            "Epoch 20 Batch 950 Loss 2.1786 Accuracy 0.2969\n",
            "Epoch 20 Batch 1000 Loss 2.1801 Accuracy 0.2971\n",
            "Epoch 20 Batch 1050 Loss 2.1824 Accuracy 0.2969\n",
            "Epoch 20 Batch 1100 Loss 2.1840 Accuracy 0.2964\n",
            "Epoch 20 Batch 1150 Loss 2.1846 Accuracy 0.2966\n",
            "Epoch 20 Batch 1200 Loss 2.1844 Accuracy 0.2967\n",
            "Epoch 20 Batch 1250 Loss 2.1855 Accuracy 0.2967\n",
            "Epoch 20 Batch 1300 Loss 2.1860 Accuracy 0.2966\n",
            "Epoch 20 Batch 1350 Loss 2.1864 Accuracy 0.2967\n",
            "Epoch 20 Batch 1400 Loss 2.1870 Accuracy 0.2967\n",
            "Saving checkpoint for epoch 20 at ./checkpoints/train/ckpt-6\n",
            "Epoch 20 Loss 2.1869 Accuracy 0.2967\n",
            "Time taken for 1 epoch: 995.5457961559296 secs\n",
            "\n"
          ]
        }
      ],
      "source": [
        "for epoch in range(EPOCHS):\n",
        "  start = time.time()\n",
        "\n",
        "  train_loss.reset_states()\n",
        "  train_accuracy.reset_states()\n",
        "\n",
        "  # inp -> portuguese, tar -> english\n",
        "  for (batch, (inp, tar)) in enumerate(train_dataset):\n",
        "    train_step(inp, tar)\n",
        "\n",
        "    if batch % 50 == 0:\n",
        "      print ('Epoch {} Batch {} Loss {:.4f} Accuracy {:.4f}'.format(\n",
        "          epoch + 1, batch, train_loss.result(), train_accuracy.result()))\n",
        "\n",
        "  if (epoch + 1) % 5 == 0:\n",
        "    ckpt_save_path = ckpt_manager.save()\n",
        "    print ('Saving checkpoint for epoch {} at {}'.format(epoch+1,\n",
        "                                                         ckpt_save_path))\n",
        "\n",
        "  print ('Epoch {} Loss {:.4f} Accuracy {:.4f}'.format(epoch + 1,\n",
        "                                                train_loss.result(),\n",
        "                                                train_accuracy.result()))\n",
        "\n",
        "  print ('Time taken for 1 epoch: {} secs\\n'.format(time.time() - start))"
      ]
    },
    {
      "cell_type": "markdown",
      "metadata": {
        "id": "QfcsSWswSdGV"
      },
      "source": [
        "## Evaluate"
      ]
    },
    {
      "cell_type": "markdown",
      "metadata": {
        "id": "y6APsFrgImLW"
      },
      "source": [
        "The following steps are used for evaluation:\n",
        "\n",
        "* Encode the input sentence using the Portuguese tokenizer (`tokenizer_pt`). Moreover, add the start and end token so the input is equivalent to what the model is trained with. This is the encoder input.\n",
        "* The decoder input is the `start token == tokenizer_en.vocab_size`.\n",
        "* Calculate the padding masks and the look ahead masks.\n",
        "* The `decoder` then outputs the predictions by looking at the `encoder output` and its own output (self-attention).\n",
        "* Select the last word and calculate the argmax of that.\n",
        "* Concatentate the predicted word to the decoder input as pass it to the decoder.\n",
        "* In this approach, the decoder predicts the next word based on the previous words it predicted.\n",
        "\n",
        "Note: The model used here has less capacity to keep the example relatively faster so the predictions maybe less right. To reproduce the results in the paper, use the entire dataset and base transformer model or transformer XL, by changing the hyperparameters above."
      ]
    },
    {
      "cell_type": "code",
      "execution_count": null,
      "metadata": {
        "id": "5buvMlnvyrFm"
      },
      "outputs": [],
      "source": [
        "def evaluate(inp_sentence):\n",
        "  start_token = [tokenizer_pt.vocab_size]\n",
        "  end_token = [tokenizer_pt.vocab_size + 1]\n",
        "\n",
        "  # inp sentence is portuguese, hence adding the start and end token\n",
        "  inp_sentence = start_token + tokenizer_pt.encode(inp_sentence) + end_token\n",
        "  encoder_input = tf.expand_dims(inp_sentence, 0)\n",
        "\n",
        "  # as the target is english, the first word to the transformer should be the\n",
        "  # english start token.\n",
        "  decoder_input = [tokenizer_en.vocab_size]\n",
        "  output = tf.expand_dims(decoder_input, 0)\n",
        "\n",
        "  for i in range(MAX_LENGTH):\n",
        "    enc_padding_mask, combined_mask, dec_padding_mask = create_masks(\n",
        "        encoder_input, output)\n",
        "    # predictions.shape == (batch_size, seq_len, vocab_size)\n",
        "    predictions, attention_weights = transformer(encoder_input,\n",
        "                                                 output,\n",
        "                                                 False,\n",
        "                                                 enc_padding_mask,\n",
        "                                                 combined_mask,\n",
        "                                                 dec_padding_mask)\n",
        "\n",
        "    # select the last word from the seq_len dimension\n",
        "    predictions = predictions[: ,-1:, :]  # (batch_size, 1, vocab_size)\n",
        "\n",
        "    predicted_id = tf.cast(tf.argmax(predictions, axis=-1), tf.int32)\n",
        "\n",
        "    # return the result if the predicted_id is equal to the end token\n",
        "    if predicted_id == tokenizer_en.vocab_size+1:\n",
        "      return tf.squeeze(output, axis=0), attention_weights\n",
        "\n",
        "    # concatentate the predicted_id to the output which is given to the decoder\n",
        "    # as its input.\n",
        "    output = tf.concat([output, predicted_id], axis=-1)\n",
        "\n",
        "  return tf.squeeze(output, axis=0), attention_weights"
      ]
    },
    {
      "cell_type": "code",
      "execution_count": null,
      "metadata": {
        "id": "amDqKFOYOp6z"
      },
      "outputs": [],
      "source": [
        "sentence=\"este é um problema que temos que resolver.\"\n",
        "\n",
        "result, attention_weights = evaluate(sentence)"
      ]
    },
    {
      "cell_type": "code",
      "execution_count": null,
      "metadata": {
        "colab": {
          "base_uri": "https://localhost:8080/"
        },
        "id": "iUYysnkIR_-V",
        "outputId": "2309b264-a590-4703-c40b-d43a21d52eb9"
      },
      "outputs": [
        {
          "data": {
            "text/plain": [
              "<tf.Tensor: shape=(21,), dtype=int32, numpy=\n",
              "array([8087,   16,   13,    7,  328,   10,   14,  132,    5,  966,    3,\n",
              "       7948, 7877, 7946,  302,   14,  132,    5,  966,   19,    2],\n",
              "      dtype=int32)>"
            ]
          },
          "execution_count": 68,
          "metadata": {},
          "output_type": "execute_result"
        }
      ],
      "source": [
        "result"
      ]
    },
    {
      "cell_type": "code",
      "execution_count": null,
      "metadata": {
        "colab": {
          "base_uri": "https://localhost:8080/"
        },
        "id": "EmYL0oqFOp_A",
        "outputId": "b660ab99-1dcf-4228-a99c-e6050bf411dc"
      },
      "outputs": [
        {
          "data": {
            "text/plain": [
              "dict_keys(['decoder_layer1_block1', 'decoder_layer1_block2', 'decoder_layer2_block1', 'decoder_layer2_block2', 'decoder_layer3_block1', 'decoder_layer3_block2', 'decoder_layer4_block1', 'decoder_layer4_block2'])"
            ]
          },
          "execution_count": 69,
          "metadata": {},
          "output_type": "execute_result"
        }
      ],
      "source": [
        "attention_weights.keys()"
      ]
    },
    {
      "cell_type": "code",
      "execution_count": null,
      "metadata": {
        "id": "lU2_yG_vBGza"
      },
      "outputs": [],
      "source": [
        "def translate(sentence):\n",
        "  result, attention_weights = evaluate(sentence)\n",
        "\n",
        "  predicted_sentence = tokenizer_en.decode([i for i in result\n",
        "                                            if i < tokenizer_en.vocab_size])\n",
        "\n",
        "  print('Input: {}'.format(sentence))\n",
        "  print('Predicted translation: {}'.format(predicted_sentence))\n"
      ]
    },
    {
      "cell_type": "markdown",
      "metadata": {
        "id": "Z0Ws0EN9RaLY"
      },
      "source": []
    },
    {
      "cell_type": "code",
      "execution_count": null,
      "metadata": {
        "colab": {
          "base_uri": "https://localhost:8080/"
        },
        "id": "YsxrAlvFG8SZ",
        "outputId": "fe922ea6-140b-4490-ce51-71961db5c281"
      },
      "outputs": [
        {
          "name": "stdout",
          "output_type": "stream",
          "text": [
            "Input: este é um problema que temos que resolver.\n",
            "Predicted translation: this is a problem that we need to solve the u.s. we need to solve it .\n",
            "Real translation: this is a problem we have to solve .\n"
          ]
        }
      ],
      "source": [
        "translate(\"este é um problema que temos que resolver.\")\n",
        "print (\"Real translation: this is a problem we have to solve .\")"
      ]
    },
    {
      "cell_type": "code",
      "execution_count": null,
      "metadata": {
        "colab": {
          "base_uri": "https://localhost:8080/"
        },
        "id": "7EH5y_aqI4t1",
        "outputId": "1b6270be-a0d5-4ded-d8b6-f983e4e8a7d3"
      },
      "outputs": [
        {
          "name": "stdout",
          "output_type": "stream",
          "text": [
            "Input: os meus vizinhos ouviram sobre esta ideia.\n",
            "Predicted translation: my neighbors heard about this idea .\n",
            "Real translation: and my neighboring homes heard about this idea .\n"
          ]
        }
      ],
      "source": [
        "translate(\"os meus vizinhos ouviram sobre esta ideia.\")\n",
        "print (\"Real translation: and my neighboring homes heard about this idea .\")"
      ]
    },
    {
      "cell_type": "code",
      "execution_count": null,
      "metadata": {
        "colab": {
          "base_uri": "https://localhost:8080/"
        },
        "id": "J-hVCTSUMlkb",
        "outputId": "02641125-71ac-413b-da86-faeb9256c7da"
      },
      "outputs": [
        {
          "name": "stdout",
          "output_type": "stream",
          "text": [
            "Input: vou então muito rapidamente partilhar convosco algumas histórias de algumas coisas mágicas que aconteceram.\n",
            "Predicted translation: so i 'm going to play very quickly share with you some of some some of some bad stories that would happen .\n",
            "Real translation: so i 'll just share with you some stories very quickly of some magical things that have happened .\n"
          ]
        }
      ],
      "source": [
        "translate(\"vou então muito rapidamente partilhar convosco algumas histórias de algumas coisas mágicas que aconteceram.\")\n",
        "print (\"Real translation: so i 'll just share with you some stories very quickly of some magical things that have happened .\")"
      ]
    },
    {
      "cell_type": "code",
      "execution_count": null,
      "metadata": {
        "id": "t-kFyiOLH0xg",
        "outputId": "955695c3-e5d5-44a4-bf5c-a7753bd22adb"
      },
      "outputs": [
        {
          "name": "stdout",
          "output_type": "stream",
          "text": [
            "Input: este é o primeiro livro que eu fiz.\n",
            "Predicted translation: this is the first book i did .\n",
            "Real translation: this is the first book i've ever done.\n"
          ]
        }
      ],
      "source": [
        "translate(\"este é o primeiro livro que eu fiz.\")\n",
        "print (\"Real translation: this is the first book i've ever done.\")"
      ]
    },
    {
      "cell_type": "markdown",
      "metadata": {
        "id": "RqQ1fIsLwkGE"
      },
      "source": [
        "## Summary\n",
        "\n",
        "In this tutorial, you learned about positional encoding, multi-head attention, the importance of masking and how to create a transformer.\n",
        "\n",
        "Try using a different dataset to train the transformer. You can also create the base transformer or transformer XL by changing the hyperparameters above. You can also use the layers defined here to create [BERT](https://arxiv.org/abs/1810.04805) and train state of the art models. Futhermore, you can implement beam search to get better predictions."
      ]
    },
    {
      "cell_type": "code",
      "execution_count": null,
      "metadata": {
        "id": "ooPd1XHTG6Wy"
      },
      "outputs": [],
      "source": []
    }
  ],
  "metadata": {
    "accelerator": "GPU",
    "colab": {
      "collapsed_sections": [
        "s_qNSzzyaCbD"
      ],
      "gpuType": "T4",
      "provenance": [],
      "include_colab_link": true
    },
    "kernelspec": {
      "display_name": "Python 3 (ipykernel)",
      "language": "python",
      "name": "python3"
    },
    "language_info": {
      "codemirror_mode": {
        "name": "ipython",
        "version": 3
      },
      "file_extension": ".py",
      "mimetype": "text/x-python",
      "name": "python",
      "nbconvert_exporter": "python",
      "pygments_lexer": "ipython3",
      "version": "3.10.12"
    }
  },
  "nbformat": 4,
  "nbformat_minor": 0
}